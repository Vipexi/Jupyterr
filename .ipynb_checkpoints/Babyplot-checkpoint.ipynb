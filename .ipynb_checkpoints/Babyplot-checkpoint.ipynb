{
 "cells": [
  {
   "cell_type": "code",
   "execution_count": 3,
   "metadata": {},
   "outputs": [],
   "source": [
    "import pandas as pd\n",
    "import matplotlib.pyplot as plt"
   ]
  },
  {
   "cell_type": "code",
   "execution_count": 4,
   "metadata": {},
   "outputs": [
    {
     "data": {
      "text/html": [
       "<div>\n",
       "<style scoped>\n",
       "    .dataframe tbody tr th:only-of-type {\n",
       "        vertical-align: middle;\n",
       "    }\n",
       "\n",
       "    .dataframe tbody tr th {\n",
       "        vertical-align: top;\n",
       "    }\n",
       "\n",
       "    .dataframe thead th {\n",
       "        text-align: right;\n",
       "    }\n",
       "</style>\n",
       "<table border=\"1\" class=\"dataframe\">\n",
       "  <thead>\n",
       "    <tr style=\"text-align: right;\">\n",
       "      <th></th>\n",
       "      <th>Weight</th>\n",
       "      <th>Age(months)</th>\n",
       "      <th>Baby Teeth</th>\n",
       "      <th>Eye Color</th>\n",
       "    </tr>\n",
       "  </thead>\n",
       "  <tbody>\n",
       "    <tr>\n",
       "      <th>0</th>\n",
       "      <td>33</td>\n",
       "      <td>48</td>\n",
       "      <td>19.0</td>\n",
       "      <td>1</td>\n",
       "    </tr>\n",
       "    <tr>\n",
       "      <th>1</th>\n",
       "      <td>36</td>\n",
       "      <td>64</td>\n",
       "      <td>12.0</td>\n",
       "      <td>3</td>\n",
       "    </tr>\n",
       "    <tr>\n",
       "      <th>2</th>\n",
       "      <td>34</td>\n",
       "      <td>53</td>\n",
       "      <td>18.0</td>\n",
       "      <td>2</td>\n",
       "    </tr>\n",
       "    <tr>\n",
       "      <th>3</th>\n",
       "      <td>40</td>\n",
       "      <td>70</td>\n",
       "      <td>5.0</td>\n",
       "      <td>2</td>\n",
       "    </tr>\n",
       "    <tr>\n",
       "      <th>4</th>\n",
       "      <td>32</td>\n",
       "      <td>44</td>\n",
       "      <td>20.0</td>\n",
       "      <td>3</td>\n",
       "    </tr>\n",
       "    <tr>\n",
       "      <th>5</th>\n",
       "      <td>37</td>\n",
       "      <td>66</td>\n",
       "      <td>15.0</td>\n",
       "      <td>1</td>\n",
       "    </tr>\n",
       "    <tr>\n",
       "      <th>6</th>\n",
       "      <td>35</td>\n",
       "      <td>59</td>\n",
       "      <td>NaN</td>\n",
       "      <td>2</td>\n",
       "    </tr>\n",
       "  </tbody>\n",
       "</table>\n",
       "</div>"
      ],
      "text/plain": [
       "   Weight  Age(months)  Baby Teeth  Eye Color\n",
       "0      33           48        19.0          1\n",
       "1      36           64        12.0          3\n",
       "2      34           53        18.0          2\n",
       "3      40           70         5.0          2\n",
       "4      32           44        20.0          3\n",
       "5      37           66        15.0          1\n",
       "6      35           59         NaN          2"
      ]
     },
     "execution_count": 4,
     "metadata": {},
     "output_type": "execute_result"
    }
   ],
   "source": [
    "df = pd.read_csv('corrData_x.csv')\n",
    "df.head(10)"
   ]
  },
  {
   "cell_type": "code",
   "execution_count": 5,
   "metadata": {},
   "outputs": [
    {
     "data": {
      "text/html": [
       "<div>\n",
       "<style scoped>\n",
       "    .dataframe tbody tr th:only-of-type {\n",
       "        vertical-align: middle;\n",
       "    }\n",
       "\n",
       "    .dataframe tbody tr th {\n",
       "        vertical-align: top;\n",
       "    }\n",
       "\n",
       "    .dataframe thead th {\n",
       "        text-align: right;\n",
       "    }\n",
       "</style>\n",
       "<table border=\"1\" class=\"dataframe\">\n",
       "  <thead>\n",
       "    <tr style=\"text-align: right;\">\n",
       "      <th></th>\n",
       "      <th>Weight</th>\n",
       "      <th>Age(months)</th>\n",
       "      <th>Baby Teeth</th>\n",
       "      <th>Eye Color</th>\n",
       "    </tr>\n",
       "  </thead>\n",
       "  <tbody>\n",
       "    <tr>\n",
       "      <th>Weight</th>\n",
       "      <td>1.000000</td>\n",
       "      <td>0.954491</td>\n",
       "      <td>-0.948219</td>\n",
       "      <td>-0.151744</td>\n",
       "    </tr>\n",
       "    <tr>\n",
       "      <th>Age(months)</th>\n",
       "      <td>0.954491</td>\n",
       "      <td>1.000000</td>\n",
       "      <td>-0.880771</td>\n",
       "      <td>-0.126163</td>\n",
       "    </tr>\n",
       "    <tr>\n",
       "      <th>Baby Teeth</th>\n",
       "      <td>-0.948219</td>\n",
       "      <td>-0.880771</td>\n",
       "      <td>1.000000</td>\n",
       "      <td>-0.079347</td>\n",
       "    </tr>\n",
       "    <tr>\n",
       "      <th>Eye Color</th>\n",
       "      <td>-0.151744</td>\n",
       "      <td>-0.126163</td>\n",
       "      <td>-0.079347</td>\n",
       "      <td>1.000000</td>\n",
       "    </tr>\n",
       "  </tbody>\n",
       "</table>\n",
       "</div>"
      ],
      "text/plain": [
       "               Weight  Age(months)  Baby Teeth  Eye Color\n",
       "Weight       1.000000     0.954491   -0.948219  -0.151744\n",
       "Age(months)  0.954491     1.000000   -0.880771  -0.126163\n",
       "Baby Teeth  -0.948219    -0.880771    1.000000  -0.079347\n",
       "Eye Color   -0.151744    -0.126163   -0.079347   1.000000"
      ]
     },
     "execution_count": 5,
     "metadata": {},
     "output_type": "execute_result"
    }
   ],
   "source": [
    "df.corr()"
   ]
  },
  {
   "cell_type": "code",
   "execution_count": 6,
   "metadata": {},
   "outputs": [
    {
     "data": {
      "text/plain": [
       "Weight         2.690371\n",
       "Age(months)    9.707631\n",
       "Baby Teeth     5.636193\n",
       "Eye Color      0.816497\n",
       "dtype: float64"
      ]
     },
     "execution_count": 6,
     "metadata": {},
     "output_type": "execute_result"
    }
   ],
   "source": [
    "df.std()"
   ]
  },
  {
   "cell_type": "code",
   "execution_count": 7,
   "metadata": {},
   "outputs": [
    {
     "data": {
      "text/plain": [
       "Weight         35.285714\n",
       "Age(months)    57.714286\n",
       "Baby Teeth     14.833333\n",
       "Eye Color       2.000000\n",
       "dtype: float64"
      ]
     },
     "execution_count": 7,
     "metadata": {},
     "output_type": "execute_result"
    }
   ],
   "source": [
    "df.mean()"
   ]
  },
  {
   "cell_type": "code",
   "execution_count": 8,
   "metadata": {},
   "outputs": [
    {
     "data": {
      "text/plain": [
       "Weight         7\n",
       "Age(months)    7\n",
       "Baby Teeth     6\n",
       "Eye Color      7\n",
       "dtype: int64"
      ]
     },
     "execution_count": 8,
     "metadata": {},
     "output_type": "execute_result"
    }
   ],
   "source": [
    "df.count()"
   ]
  },
  {
   "cell_type": "code",
   "execution_count": 9,
   "metadata": {},
   "outputs": [
    {
     "data": {
      "image/png": "[encoded data removed]",
      "text/plain": [
       "<Figure size 432x288 with 1 Axes>"
      ]
     },
     "metadata": {
      "needs_background": "light"
     },
     "output_type": "display_data"
    }
   ],
   "source": [
    "# scatter plot\n",
    "df.plot(kind = 'scatter',\n",
    "        x = 'Age(months)',\n",
    "        y = 'Baby Teeth',\n",
    "        color = 'red')\n",
    "  \n",
    "# set the title\n",
    "plt.title('ScatterPlot')\n",
    "  \n",
    "# show the plot\n",
    "plt.show()"
   ]
  },
  {
   "cell_type": "code",
   "execution_count": 10,
   "metadata": {},
   "outputs": [
    {
     "data": {
      "image/png": "[encoded data removed]",
      "text/plain": [
       "<Figure size 432x288 with 1 Axes>"
      ]
     },
     "metadata": {
      "needs_background": "light"
     },
     "output_type": "display_data"
    }
   ],
   "source": [
    "# bar plot\n",
    "df.plot(kind = 'bar',\n",
    "        x = 'Age(months)',\n",
    "        y = 'Baby Teeth',\n",
    "        color = 'green')\n",
    "  \n",
    "# set the title\n",
    "plt.title('BarPlot')\n",
    "  \n",
    "# show the plot\n",
    "plt.show()"
   ]
  },
  {
   "cell_type": "code",
   "execution_count": 17,
   "metadata": {},
   "outputs": [
    {
     "data": {
      "image/png": "[encoded data removed]",
      "text/plain": [
       "<Figure size 720x720 with 2 Axes>"
      ]
     },
     "metadata": {
      "needs_background": "light"
     },
     "output_type": "display_data"
    }
   ],
   "source": [
    "crossCorrelation(df,mirror=False, correlation=False, scaling=False)"
   ]
  },
  {
   "cell_type": "code",
   "execution_count": 18,
   "metadata": {},
   "outputs": [],
   "source": [
    "def crossCorrelation(df, mirror, correlation=True, scaling=False):\n",
    "    \n",
    "    import seaborn as sns\n",
    "    import numpy as np\n",
    "    import matplotlib.pyplot as plt \n",
    "    from sklearn import preprocessing\n",
    "    \n",
    "    if scaling==True:\n",
    "        x = df.values #returns a numpy array\n",
    "        min_max_scaler = preprocessing.MinMaxScaler()\n",
    "        x_scaled = min_max_scaler.fit_transform(x)\n",
    "        df = pd.DataFrame(x_scaled, columns=df.columns)\n",
    "    \n",
    "    # Create Correlation df\n",
    "    if correlation==True:\n",
    "        corr = df.corr()\n",
    "    else :\n",
    "        corr = df.cov()\n",
    "    # Plot figsize\n",
    "    fig, ax = plt.subplots(figsize=(10, 10))\n",
    "    # Generate Color Map\n",
    "    colormap = sns.diverging_palette(220, 10, as_cmap=True)\n",
    "   \n",
    "    if mirror == True:\n",
    "        #Generate Heat Map, allow annotations and place floats in map\n",
    "        sns.heatmap(corr, cmap=colormap, annot=True, fmt=\".2f\")\n",
    "        #Apply xticks\n",
    "        plt.xticks(range(len(corr.columns)), corr.columns);\n",
    "        #Apply yticks\n",
    "        plt.yticks(range(len(corr.columns)), corr.columns)\n",
    "        #show plot\n",
    "\n",
    "    else:\n",
    "        # Drop self-correlations\n",
    "        dropSelf = np.zeros_like(corr)\n",
    "        dropSelf[np.triu_indices_from(dropSelf)] = True\n",
    "        # Generate Color Map\n",
    "        colormap = sns.diverging_palette(220, 10, as_cmap=True)\n",
    "        # Generate Heat Map, allow annotations and place floats in map\n",
    "        sns.heatmap(corr, cmap=colormap, annot=True, fmt=\".2f\", mask=dropSelf)\n",
    "        # Apply xticks\n",
    "        plt.xticks(range(len(corr.columns)), corr.columns);\n",
    "        # Apply yticks\n",
    "        plt.yticks(range(len(corr.columns)), corr.columns)\n",
    "    # show plot\n",
    "    plt.show()\n",
    "    "
   ]
  },
  {
   "cell_type": "code",
   "execution_count": null,
   "metadata": {},
   "outputs": [],
   "source": []
  }
 ],
 "metadata": {
  "kernelspec": {
   "display_name": "Python 3",
   "language": "python",
   "name": "python3"
  },
  "language_info": {
   "codemirror_mode": {
    "name": "ipython",
    "version": 3
   },
   "file_extension": ".py",
   "mimetype": "text/x-python",
   "name": "python",
   "nbconvert_exporter": "python",
   "pygments_lexer": "ipython3",
   "version": "3.8.10"
  }
 },
 "nbformat": 4,
 "nbformat_minor": 4
}
