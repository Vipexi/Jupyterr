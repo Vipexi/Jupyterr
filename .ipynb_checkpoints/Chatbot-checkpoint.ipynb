{
 "cells": [
  {
   "cell_type": "code",
   "execution_count": null,
   "metadata": {},
   "outputs": [],
   "source": [
    "war_list = [\"To_kill_you\", \"To_destroy_you\", \"Take your throne\"]\n",
    "\n",
    "peace_list = [\"I_come_in_peace\", \"To_show_you_my_wares\", \"For_your_daughters_hand\"]\n",
    "\n",
    "print(\"Welcome to my kingdom.\")\n",
    "answer=input(\"Welcome to my kingdom.\")\n",
    "if answer == \"thank you\":\n",
    "    answer2=input(\"What brings you here?\")\n",
    "elif answer in war_list :\n",
    "    print(\"Guards!!!!\")\n",
    "elif answer in peace_list :\n",
    "    print(\"Not interested, get out of my sight.\")\n",
    "elif answer not in peace_list or answer not in war_list:\n",
    "    print (\"Begone you lowborn scum.\")\n"
   ]
  },
  {
   "cell_type": "code",
   "execution_count": 38,
   "metadata": {},
   "outputs": [
    {
     "name": "stdout",
     "output_type": "stream",
     "text": [
      "109\n",
      "dimensions: 0\n"
     ]
    }
   ],
   "source": [
    "import numpy as np\n",
    "\n",
    "my_array=np.array(109)\n",
    "print(my_array)\n",
    "print(\"dimesions:\",my_array.ndim)"
   ]
  },
  {
   "cell_type": "code",
   "execution_count": 45,
   "metadata": {},
   "outputs": [
    {
     "name": "stdout",
     "output_type": "stream",
     "text": [
      "dimensions: 1\n",
      "a single value= 7\n",
      "dimensions: 1\n",
      "a single value= 6\n"
     ]
    }
   ],
   "source": [
    "my_array=np.array([1,2,3,4,5,6,7,8])\n",
    "print(\"dimensions:\",my_array.ndim)\n",
    "print(\"a single value=\",my_array[6])\n",
    "\n",
    "my_array=np.array([1,2,3,4,5,6,7,8])\n",
    "print(\"dimensions:\",my_array.ndim)\n",
    "print(\"a single value=\",my_array[5])\n"
   ]
  },
  {
   "cell_type": "code",
   "execution_count": 6,
   "metadata": {},
   "outputs": [
    {
     "name": "stdout",
     "output_type": "stream",
     "text": [
      "[[ 1  2  3  4]\n",
      " [ 5  6  7  8]\n",
      " [ 9 10 11 12]]\n",
      "dimensions: 2\n",
      "a single value= 7\n",
      " \n"
     ]
    }
   ],
   "source": [
    "my_array=np.array( [[1,2,3,4],[5,6,7,8],[9,10,11,12]] )\n",
    "print(my_array)\n",
    "print(\"dimensions:\",my_array.ndim)\n",
    "print(\"a single value=\",my_array[1,2])\n",
    "print(\" \")"
   ]
  },
  {
   "cell_type": "code",
   "execution_count": 7,
   "metadata": {},
   "outputs": [
    {
     "name": "stdout",
     "output_type": "stream",
     "text": [
      "[1 2 3 4]\n"
     ]
    }
   ],
   "source": [
    "my_array1 = np.array([1,2,3,4])\n",
    "print(my_array1)"
   ]
  },
  {
   "cell_type": "code",
   "execution_count": 11,
   "metadata": {},
   "outputs": [
    {
     "name": "stdout",
     "output_type": "stream",
     "text": [
      "2\n"
     ]
    }
   ],
   "source": [
    "print(my_array1[1])"
   ]
  },
  {
   "cell_type": "code",
   "execution_count": 9,
   "metadata": {},
   "outputs": [
    {
     "name": "stdout",
     "output_type": "stream",
     "text": [
      "[[ 1  2  3  4]\n",
      " [ 5  6  7  8]\n",
      " [ 9 10 11 12]]\n",
      "dimensions: 2\n",
      "a single value: 11\n",
      " \n"
     ]
    }
   ],
   "source": [
    "my_array2 = np.array( [[1,2,3,4],[5,6,7,8],[9,10,11,12]] )\n",
    "print(my_array2)\n",
    "print(\"dimensions:\",my_array2.ndim)\n",
    "print(\"a single value:\",my_array2[2,2])\n",
    "print(\" \")"
   ]
  },
  {
   "cell_type": "code",
   "execution_count": 10,
   "metadata": {},
   "outputs": [
    {
     "name": "stdout",
     "output_type": "stream",
     "text": [
      "[[ 1  2  3  4]\n",
      " [ 5  6  7  8]\n",
      " [ 9 10 11 12]]\n",
      "dimensions: 2\n",
      "a single value: 9\n",
      " \n"
     ]
    }
   ],
   "source": [
    "my_array2 = np.array( [[1,2,3,4],[5,6,7,8],[9,10,11,12]] )\n",
    "print(my_array2)\n",
    "print(\"dimensions:\",my_array2.ndim)\n",
    "print(\"a single value:\",my_array2[2,0])\n",
    "print(\" \")"
   ]
  },
  {
   "cell_type": "code",
   "execution_count": 12,
   "metadata": {},
   "outputs": [
    {
     "name": "stdout",
     "output_type": "stream",
     "text": [
      "[[ 1  2  3  4]\n",
      " [ 5  6  7  8]\n",
      " [ 9 10 11 12]]\n",
      "dimensions: 2\n",
      "a single value: 1\n",
      " \n"
     ]
    }
   ],
   "source": [
    "my_array2 = np.array( [[1,2,3,4],[5,6,7,8],[9,10,11,12]] )\n",
    "print(my_array2)\n",
    "print(\"dimensions:\",my_array2.ndim)\n",
    "print(\"a single value:\",my_array2[0,0])\n",
    "print(\" \")"
   ]
  },
  {
   "cell_type": "code",
   "execution_count": 14,
   "metadata": {},
   "outputs": [
    {
     "name": "stdout",
     "output_type": "stream",
     "text": [
      "[[ 1  2  3  4]\n",
      " [ 5  6  7  8]\n",
      " [ 9 10 11 12]]\n",
      "dimensions: 2\n",
      "a single value: 5\n",
      " \n"
     ]
    }
   ],
   "source": [
    "my_array2 = np.array( [[1,2,3,4],[5,6,7,8],[9,10,11,12]] )\n",
    "print(my_array2)\n",
    "print(\"dimensions:\",my_array2.ndim)\n",
    "print(\"a single value:\",my_array2[1,0])\n",
    "print(\" \")"
   ]
  },
  {
   "cell_type": "code",
   "execution_count": 17,
   "metadata": {},
   "outputs": [
    {
     "name": "stdout",
     "output_type": "stream",
     "text": [
      "[[[ 1  2  3  4]\n",
      "  [ 5  6  7  8]\n",
      "  [ 9 10 11 12]]\n",
      "\n",
      " [[13 14 15 16]\n",
      "  [17 18 19 20]\n",
      "  [21 22 23 24]]\n",
      "\n",
      " [[25 26 27 28]\n",
      "  [29 30 31 32]\n",
      "  [33 34 35 36]]]\n",
      "dimensions: 3\n",
      "a single value: 3\n",
      " \n"
     ]
    }
   ],
   "source": [
    "sheet1 = np.array( [[1,2,3,4],[5,6,7,8],[9,10,11,12]] )\n",
    "sheet2 = np.array( [[13,14,15,16],[17,18,19,20],[21,22,23,24]] )\n",
    "sheet3 = np.array( [[25,26,27,28],[29,30,31,32],[33,34,35,36]] )\n",
    "\n",
    "my_array3=np.array([sheet1,sheet2,sheet3])\n",
    "print(my_array3)\n",
    "print(\"dimensions:\",my_array3.ndim)\n",
    "print(\"a single value:\",my_array3[0,0,2])\n",
    "print(\" \")"
   ]
  },
  {
   "cell_type": "code",
   "execution_count": 19,
   "metadata": {},
   "outputs": [
    {
     "name": "stdout",
     "output_type": "stream",
     "text": [
      "[[[ 1  2  3  4]\n",
      "  [ 5  6  7  8]\n",
      "  [ 9 10 11 12]]\n",
      "\n",
      " [[13 14 15 16]\n",
      "  [17 18 19 20]\n",
      "  [21 22 23 24]]\n",
      "\n",
      " [[25 26 27 28]\n",
      "  [29 30 31 32]\n",
      "  [33 34 35 36]]]\n",
      "dimensions: 3\n",
      "a single value: 1\n"
     ]
    }
   ],
   "source": [
    "sheet1 = np.array( [[1,2,3,4],[5,6,7,8],[9,10,11,12]] )\n",
    "sheet2 = np.array( [[13,14,15,16],[17,18,19,20],[21,22,23,24]] )\n",
    "sheet3 = np.array( [[25,26,27,28],[29,30,31,32],[33,34,35,36]] )\n",
    "\n",
    "my_array3=np.array([sheet1,sheet2,sheet3])\n",
    "print(my_array3)\n",
    "print(\"dimensions:\",my_array3.ndim)\n",
    "print(\"a single value:\",my_array3[0,0,0])"
   ]
  },
  {
   "cell_type": "code",
   "execution_count": 20,
   "metadata": {},
   "outputs": [
    {
     "name": "stdout",
     "output_type": "stream",
     "text": [
      "[[[ 1  2  3  4]\n",
      "  [ 5  6  7  8]\n",
      "  [ 9 10 11 12]]\n",
      "\n",
      " [[13 14 15 16]\n",
      "  [17 18 19 20]\n",
      "  [21 22 23 24]]\n",
      "\n",
      " [[25 26 27 28]\n",
      "  [29 30 31 32]\n",
      "  [33 34 35 36]]]\n",
      "dimensions: 3\n",
      "a single value: 24\n"
     ]
    }
   ],
   "source": [
    "sheet1 = np.array( [[1,2,3,4],[5,6,7,8],[9,10,11,12]] )\n",
    "sheet2 = np.array( [[13,14,15,16],[17,18,19,20],[21,22,23,24]] )\n",
    "sheet3 = np.array( [[25,26,27,28],[29,30,31,32],[33,34,35,36]] )\n",
    "\n",
    "my_array3=np.array([sheet1,sheet2,sheet3])\n",
    "print(my_array3)\n",
    "print(\"dimensions:\",my_array3.ndim)\n",
    "print(\"a single value:\",my_array3[1,2,3])"
   ]
  },
  {
   "cell_type": "code",
   "execution_count": 21,
   "metadata": {},
   "outputs": [
    {
     "name": "stdout",
     "output_type": "stream",
     "text": [
      "[[[ 1  2  3  4]\n",
      "  [ 5  6  7  8]\n",
      "  [ 9 10 11 12]]\n",
      "\n",
      " [[13 14 15 16]\n",
      "  [17 18 19 20]\n",
      "  [21 22 23 24]]\n",
      "\n",
      " [[25 26 27 28]\n",
      "  [29 30 31 32]\n",
      "  [33 34 35 36]]]\n",
      "dimensions: 3\n",
      "a single value: 35\n"
     ]
    }
   ],
   "source": [
    "sheet1 = np.array( [[1,2,3,4],[5,6,7,8],[9,10,11,12]] )\n",
    "sheet2 = np.array( [[13,14,15,16],[17,18,19,20],[21,22,23,24]] )\n",
    "sheet3 = np.array( [[25,26,27,28],[29,30,31,32],[33,34,35,36]] )\n",
    "\n",
    "my_array3=np.array([sheet1,sheet2,sheet3])\n",
    "print(my_array3)\n",
    "print(\"dimensions:\",my_array3.ndim)\n",
    "print(\"a single value:\",my_array3[2,2,2])"
   ]
  },
  {
   "cell_type": "code",
   "execution_count": 22,
   "metadata": {},
   "outputs": [
    {
     "name": "stdout",
     "output_type": "stream",
     "text": [
      "[[[ 1  2  3  4]\n",
      "  [ 5  6  7  8]\n",
      "  [ 9 10 11 12]]\n",
      "\n",
      " [[13 14 15 16]\n",
      "  [17 18 19 20]\n",
      "  [21 22 23 24]]\n",
      "\n",
      " [[25 26 27 28]\n",
      "  [29 30 31 32]\n",
      "  [33 34 35 36]]]\n",
      "dimensions: 3\n",
      "a single value: 18\n"
     ]
    }
   ],
   "source": [
    "sheet1 = np.array( [[1,2,3,4],[5,6,7,8],[9,10,11,12]] )\n",
    "sheet2 = np.array( [[13,14,15,16],[17,18,19,20],[21,22,23,24]] )\n",
    "sheet3 = np.array( [[25,26,27,28],[29,30,31,32],[33,34,35,36]] )\n",
    "\n",
    "my_array3=np.array([sheet1,sheet2,sheet3])\n",
    "print(my_array3)\n",
    "print(\"dimensions:\",my_array3.ndim)\n",
    "print(\"a single value:\",my_array3[1,1,1])"
   ]
  },
  {
   "cell_type": "code",
   "execution_count": 23,
   "metadata": {},
   "outputs": [
    {
     "name": "stdout",
     "output_type": "stream",
     "text": [
      "[[[ 1  2  3  4]\n",
      "  [ 5  6  7  8]\n",
      "  [ 9 10 11 12]]\n",
      "\n",
      " [[13 14 15 16]\n",
      "  [17 18 19 20]\n",
      "  [21 22 23 24]]\n",
      "\n",
      " [[25 26 27 28]\n",
      "  [29 30 31 32]\n",
      "  [33 34 35 36]]]\n",
      "dimensions: 3\n",
      "a single value: 12\n"
     ]
    }
   ],
   "source": [
    "sheet1 = np.array( [[1,2,3,4],[5,6,7,8],[9,10,11,12]] )\n",
    "sheet2 = np.array( [[13,14,15,16],[17,18,19,20],[21,22,23,24]] )\n",
    "sheet3 = np.array( [[25,26,27,28],[29,30,31,32],[33,34,35,36]] )\n",
    "\n",
    "my_array3=np.array([sheet1,sheet2,sheet3])\n",
    "print(my_array3)\n",
    "print(\"dimensions:\",my_array3.ndim)\n",
    "print(\"a single value:\",my_array3[0,2,3])"
   ]
  },
  {
   "cell_type": "code",
   "execution_count": 36,
   "metadata": {},
   "outputs": [
    {
     "name": "stdout",
     "output_type": "stream",
     "text": [
      "dimensions: 4\n",
      "a single value: 108\n"
     ]
    }
   ],
   "source": [
    "sheet1 = np.array( [[1,2,3,4],[5,6,7,8],[9,10,11,12]] )\n",
    "sheet2 = np.array( [[13,14,15,16],[17,18,19,20],[21,22,23,24]] )\n",
    "sheet3 = np.array( [[25,26,27,28],[29,30,31,32],[33,34,35,36]] )\n",
    "workbook1=np.array([sheet1,sheet2,sheet3])\n",
    "\n",
    "sheet4 = np.array( [[37,38,39,40],[41,42,43,44],[45,46,47,48]] )\n",
    "sheet5 = np.array( [[49,50,51,52],[53,54,55,56],[57,58,59,60]] )\n",
    "sheet6 = np.array( [[61,62,63,64],[65,66,67,68],[69,70,71,72]] )\n",
    "workbook2=np.array([sheet4,sheet5,sheet6])\n",
    "\n",
    "sheet7 = np.array( [[73,74,75,76],[77,78,79,80],[81,82,83,84]] )\n",
    "sheet8 = np.array( [[85,86,87,88],[89,90,91,92],[93,94,95,96]] )\n",
    "sheet9 = np.array( [[97,98,99,100],[101,102,103,104],[105,106,107,108]] )\n",
    "workbook3=np.array([sheet7,sheet8,sheet9])\n",
    "\n",
    "my_array4=np.array([workbook1,workbook2,workbook3])\n",
    "\n",
    "print(\"dimensions:\",my_array4.ndim)\n",
    "print(\"a single value:\",my_array4[2,2,2,3])"
   ]
  },
  {
   "cell_type": "code",
   "execution_count": 59,
   "metadata": {},
   "outputs": [
    {
     "name": "stdout",
     "output_type": "stream",
     "text": [
      "dimensions: 2\n",
      "a single value: 5\n"
     ]
    }
   ],
   "source": [
    "nparray1=np.array([[5]])\n",
    "print(\"dimensions:\",nparray1.ndim)\n",
    "print(\"a single value:\",nparray1[0,0])"
   ]
  },
  {
   "cell_type": "code",
   "execution_count": 61,
   "metadata": {},
   "outputs": [
    {
     "name": "stdout",
     "output_type": "stream",
     "text": [
      "58\n"
     ]
    }
   ],
   "source": [
    "book1=np.array([[1,2,3,4],[5,6,7,8],[9,10,11,12]])\n",
    "book2=np.array([[13,14,15,16],[17,18,19,20],[21,22,23,24]])\n",
    "trilogy1=np.array([book1,book2])\n",
    "book3=np.array([[25,26,27,28],[29,30,31,32],[33,34,35,36]])\n",
    "book4=np.array([[37,38,39,40],[41,42,43,44],[45,46,47,48]])\n",
    "trilogy2=np.array([book3,book4])\n",
    "book5=np.array([[49,50,51,52],[53,54,55,56],[57,58,59,60]])\n",
    "book6=np.array([[61,62,63,64],[65,66,67,68],[69,70,71,72]])\n",
    "trilogy3=np.array([book5,book6])\n",
    "\n",
    "threetrilogies=np.array([trilogy1,trilogy2,trilogy3])\n",
    "\n",
    "print(threetrilogies[2,0,2,1])"
   ]
  },
  {
   "cell_type": "code",
   "execution_count": 65,
   "metadata": {},
   "outputs": [
    {
     "name": "stdout",
     "output_type": "stream",
     "text": [
      "[[0 1 2 3]\n",
      " [0 1 2 3]]\n"
     ]
    }
   ],
   "source": [
    "my_array=np.array([range(4),range(4)])\n",
    "print(my_array)"
   ]
  },
  {
   "cell_type": "code",
   "execution_count": 69,
   "metadata": {},
   "outputs": [
    {
     "name": "stdout",
     "output_type": "stream",
     "text": [
      "[[0 1 2 3]\n",
      " [4 5 6 7]]\n"
     ]
    }
   ],
   "source": [
    "my_array=np.array([range(4),range(4,8)])\n",
    "print(my_array)"
   ]
  },
  {
   "cell_type": "code",
   "execution_count": 1,
   "metadata": {},
   "outputs": [
    {
     "ename": "SyntaxError",
     "evalue": "invalid syntax (<ipython-input-1-01d483dea528>, line 4)",
     "output_type": "error",
     "traceback": [
      "\u001b[0;36m  File \u001b[0;32m\"<ipython-input-1-01d483dea528>\"\u001b[0;36m, line \u001b[0;32m4\u001b[0m\n\u001b[0;31m    my_slice2=my_array([0, 5:1])\u001b[0m\n\u001b[0m                            ^\u001b[0m\n\u001b[0;31mSyntaxError\u001b[0m\u001b[0;31m:\u001b[0m invalid syntax\n"
     ]
    }
   ],
   "source": [
    "my_array=np.array([1,2,3,4,5,6,7])\n",
    "\n",
    "my_slice=my_array[2:4]\n",
    "my_slice2=my_array([0, 5:1])\n",
    "my_slice3=my_array[5:]\n",
    "\n",
    "print(\"the whole array is:\",my_array)\n",
    "print(\"the slice:\",my_slice)\n",
    "print(\"the other slice:\",my_slice2)\n",
    "print(\"the next slice:\",my_slice3)"
   ]
  },
  {
   "cell_type": "code",
   "execution_count": 78,
   "metadata": {},
   "outputs": [
    {
     "name": "stdout",
     "output_type": "stream",
     "text": [
      "[3 4 5 6]\n"
     ]
    }
   ],
   "source": [
    "my_array1 = np.array([1,2,3,4,5,6,7,8,9,10])\n",
    "print(my_array1[2:6])"
   ]
  },
  {
   "cell_type": "code",
   "execution_count": 79,
   "metadata": {},
   "outputs": [
    {
     "name": "stdout",
     "output_type": "stream",
     "text": [
      "[1 2 3]\n"
     ]
    }
   ],
   "source": [
    "my_array1 = np.array([1,2,3,4,5,6,7,8,9,10])\n",
    "print(my_array1[:3])"
   ]
  },
  {
   "cell_type": "code",
   "execution_count": 81,
   "metadata": {},
   "outputs": [
    {
     "name": "stdout",
     "output_type": "stream",
     "text": [
      "[ 8  9 10]\n",
      "[ 8  9 10]\n"
     ]
    }
   ],
   "source": [
    "my_array1 = np.array([1,2,3,4,5,6,7,8,9,10])\n",
    "print(my_array1[-3:])\n",
    "print(my_array1[7:])"
   ]
  },
  {
   "cell_type": "code",
   "execution_count": 82,
   "metadata": {},
   "outputs": [
    {
     "name": "stdout",
     "output_type": "stream",
     "text": [
      "[1 3 5 7 9]\n"
     ]
    }
   ],
   "source": [
    "my_array1 = np.array([1,2,3,4,5,6,7,8,9,10])\n",
    "print(my_array1[::2])"
   ]
  },
  {
   "cell_type": "code",
   "execution_count": 84,
   "metadata": {},
   "outputs": [
    {
     "name": "stdout",
     "output_type": "stream",
     "text": [
      "[ 6  8 10]\n"
     ]
    }
   ],
   "source": [
    "my_array1 = np.array([1,2,3,4,5,6,7,8,9,10])\n",
    "print(my_array1[5:10:2])"
   ]
  },
  {
   "cell_type": "code",
   "execution_count": 86,
   "metadata": {},
   "outputs": [
    {
     "name": "stdout",
     "output_type": "stream",
     "text": [
      "[2 5 8]\n"
     ]
    }
   ],
   "source": [
    "my_array1 = np.array([1,2,3,4,5,6,7,8,9,10])\n",
    "print(my_array1[1:8:3])"
   ]
  },
  {
   "cell_type": "code",
   "execution_count": 87,
   "metadata": {},
   "outputs": [
    {
     "name": "stdout",
     "output_type": "stream",
     "text": [
      "[ 8  9 10]\n"
     ]
    }
   ],
   "source": [
    "my_array1 = np.array([1,2,3,4,5,6,7,8,9,10])\n",
    "print(my_array1[-3:])"
   ]
  },
  {
   "cell_type": "code",
   "execution_count": 89,
   "metadata": {},
   "outputs": [
    {
     "name": "stdout",
     "output_type": "stream",
     "text": [
      "[ 6  8 10]\n"
     ]
    }
   ],
   "source": [
    "my_array1 = np.array([1,2,3,4,5,6,7,8,9,10])\n",
    "print(my_array1[-5::2])"
   ]
  },
  {
   "cell_type": "code",
   "execution_count": 108,
   "metadata": {},
   "outputs": [
    {
     "name": "stdout",
     "output_type": "stream",
     "text": [
      "[3 5 7]\n"
     ]
    }
   ],
   "source": [
    "my_array1 = np.array([1,2,3,4,5,6,7,8,9,10])\n",
    "print(my_array1[2:7:2])"
   ]
  },
  {
   "cell_type": "code",
   "execution_count": 95,
   "metadata": {},
   "outputs": [
    {
     "name": "stdout",
     "output_type": "stream",
     "text": [
      "[6 7 8]\n"
     ]
    }
   ],
   "source": [
    "my_array2 = np.array( [[1,2,3,4],[5,6,7,8],[9,10,11,12]] )\n",
    "print(my_array2[1, 1:4])"
   ]
  },
  {
   "cell_type": "code",
   "execution_count": 96,
   "metadata": {},
   "outputs": [
    {
     "name": "stdout",
     "output_type": "stream",
     "text": [
      "[ 9 11]\n"
     ]
    }
   ],
   "source": [
    "my_array2 = np.array( [[1,2,3,4],[5,6,7,8],[9,10,11,12]] )\n",
    "print(my_array2[2, 0:4:2])"
   ]
  },
  {
   "cell_type": "code",
   "execution_count": 115,
   "metadata": {},
   "outputs": [
    {
     "name": "stdout",
     "output_type": "stream",
     "text": [
      "[[ 1  3]\n",
      " [ 5  7]\n",
      " [ 9 11]]\n",
      "[[ 1  3]\n",
      " [ 5  7]\n",
      " [ 9 11]]\n"
     ]
    }
   ],
   "source": [
    "my_array2 = np.array( [[1,2,3,4],[5,6,7,8],[9,10,11,12]] )\n",
    "print(my_array2[:,0:3:2])\n",
    "print(my_array2[:,::2])"
   ]
  },
  {
   "cell_type": "code",
   "execution_count": 125,
   "metadata": {},
   "outputs": [
    {
     "name": "stdout",
     "output_type": "stream",
     "text": [
      "[[ 1  4]\n",
      " [ 5  8]\n",
      " [ 9 12]]\n"
     ]
    }
   ],
   "source": [
    "my_array2 = np.array( [[1,2,3,4],[5,6,7,8],[9,10,11,12]] )\n",
    "print(my_array2[:,0::3])"
   ]
  },
  {
   "cell_type": "code",
   "execution_count": 137,
   "metadata": {},
   "outputs": [
    {
     "name": "stdout",
     "output_type": "stream",
     "text": [
      "[[ 2  4]\n",
      " [ 6  8]\n",
      " [10 12]]\n"
     ]
    }
   ],
   "source": [
    "my_array2 = np.array( [[1,2,3,4],[5,6,7,8],[9,10,11,12]] )\n",
    "print(my_array2[:,-3::2])"
   ]
  },
  {
   "cell_type": "code",
   "execution_count": 138,
   "metadata": {},
   "outputs": [
    {
     "name": "stdout",
     "output_type": "stream",
     "text": [
      "[[ 1  3]\n",
      " [ 5  7]\n",
      " [ 9 11]]\n"
     ]
    }
   ],
   "source": [
    "my_array2 = np.array( [[1,2,3,4],[5,6,7,8],[9,10,11,12]] )\n",
    "print(my_array2[:,-4::2])"
   ]
  },
  {
   "cell_type": "code",
   "execution_count": null,
   "metadata": {},
   "outputs": [],
   "source": []
  }
 ],
 "metadata": {
  "kernelspec": {
   "display_name": "Python 3.8.2 64-bit",
   "language": "python",
   "name": "python38264bit0076514f24354075b40e04130ba53c8b"
  },
  "language_info": {
   "codemirror_mode": {
    "name": "ipython",
    "version": 3
   },
   "file_extension": ".py",
   "mimetype": "text/x-python",
   "name": "python",
   "nbconvert_exporter": "python",
   "pygments_lexer": "ipython3",
   "version": "3.8.2"
  }
 },
 "nbformat": 4,
 "nbformat_minor": 4
}
