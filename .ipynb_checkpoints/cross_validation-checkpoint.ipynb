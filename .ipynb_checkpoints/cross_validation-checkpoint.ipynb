{
 "cells": [
  {
   "cell_type": "code",
   "execution_count": 1,
   "metadata": {},
   "outputs": [],
   "source": [
    "import pandas as pd \n",
    "import matplotlib.pyplot as axis\n",
    "import numpy as np"
   ]
  },
  {
   "cell_type": "code",
   "execution_count": 2,
   "metadata": {},
   "outputs": [
    {
     "data": {
      "text/html": [
       "<div>\n",
       "<style scoped>\n",
       "    .dataframe tbody tr th:only-of-type {\n",
       "        vertical-align: middle;\n",
       "    }\n",
       "\n",
       "    .dataframe tbody tr th {\n",
       "        vertical-align: top;\n",
       "    }\n",
       "\n",
       "    .dataframe thead th {\n",
       "        text-align: right;\n",
       "    }\n",
       "</style>\n",
       "<table border=\"1\" class=\"dataframe\">\n",
       "  <thead>\n",
       "    <tr style=\"text-align: right;\">\n",
       "      <th></th>\n",
       "      <th>area_number</th>\n",
       "      <th>Longitude</th>\n",
       "      <th>crime</th>\n",
       "      <th>pollution_(nitrous_oxide)</th>\n",
       "      <th>avr_rooms_per_house</th>\n",
       "      <th>%houses_built_&lt;1940</th>\n",
       "      <th>distance_to_employment_offices</th>\n",
       "      <th>property tax</th>\n",
       "      <th>teacher-student_ratio</th>\n",
       "      <th>dark_skin_residents</th>\n",
       "      <th>poor_residents</th>\n",
       "      <th>median_price</th>\n",
       "    </tr>\n",
       "  </thead>\n",
       "  <tbody>\n",
       "    <tr>\n",
       "      <th>0</th>\n",
       "      <td>0</td>\n",
       "      <td>-70.9550</td>\n",
       "      <td>0.00632</td>\n",
       "      <td>0.538</td>\n",
       "      <td>6.575</td>\n",
       "      <td>65.2</td>\n",
       "      <td>4.0900</td>\n",
       "      <td>296</td>\n",
       "      <td>15.3</td>\n",
       "      <td>396.90</td>\n",
       "      <td>4.98</td>\n",
       "      <td>24.0</td>\n",
       "    </tr>\n",
       "    <tr>\n",
       "      <th>1</th>\n",
       "      <td>1</td>\n",
       "      <td>-70.9500</td>\n",
       "      <td>0.02731</td>\n",
       "      <td>0.469</td>\n",
       "      <td>6.421</td>\n",
       "      <td>78.9</td>\n",
       "      <td>4.9671</td>\n",
       "      <td>242</td>\n",
       "      <td>17.8</td>\n",
       "      <td>396.90</td>\n",
       "      <td>9.14</td>\n",
       "      <td>21.6</td>\n",
       "    </tr>\n",
       "    <tr>\n",
       "      <th>2</th>\n",
       "      <td>1</td>\n",
       "      <td>-70.9360</td>\n",
       "      <td>0.02729</td>\n",
       "      <td>0.469</td>\n",
       "      <td>7.185</td>\n",
       "      <td>61.1</td>\n",
       "      <td>4.9671</td>\n",
       "      <td>242</td>\n",
       "      <td>17.8</td>\n",
       "      <td>392.83</td>\n",
       "      <td>4.03</td>\n",
       "      <td>34.7</td>\n",
       "    </tr>\n",
       "    <tr>\n",
       "      <th>3</th>\n",
       "      <td>2</td>\n",
       "      <td>-70.9280</td>\n",
       "      <td>0.03237</td>\n",
       "      <td>0.458</td>\n",
       "      <td>6.998</td>\n",
       "      <td>45.8</td>\n",
       "      <td>6.0622</td>\n",
       "      <td>222</td>\n",
       "      <td>18.7</td>\n",
       "      <td>394.63</td>\n",
       "      <td>2.94</td>\n",
       "      <td>33.4</td>\n",
       "    </tr>\n",
       "    <tr>\n",
       "      <th>4</th>\n",
       "      <td>2</td>\n",
       "      <td>-70.9220</td>\n",
       "      <td>0.06905</td>\n",
       "      <td>0.458</td>\n",
       "      <td>7.147</td>\n",
       "      <td>54.2</td>\n",
       "      <td>6.0622</td>\n",
       "      <td>222</td>\n",
       "      <td>18.7</td>\n",
       "      <td>396.90</td>\n",
       "      <td>5.33</td>\n",
       "      <td>36.2</td>\n",
       "    </tr>\n",
       "    <tr>\n",
       "      <th>5</th>\n",
       "      <td>2</td>\n",
       "      <td>-70.9165</td>\n",
       "      <td>0.02985</td>\n",
       "      <td>0.458</td>\n",
       "      <td>6.430</td>\n",
       "      <td>58.7</td>\n",
       "      <td>6.0622</td>\n",
       "      <td>222</td>\n",
       "      <td>18.7</td>\n",
       "      <td>394.12</td>\n",
       "      <td>5.21</td>\n",
       "      <td>28.7</td>\n",
       "    </tr>\n",
       "    <tr>\n",
       "      <th>6</th>\n",
       "      <td>3</td>\n",
       "      <td>-70.9360</td>\n",
       "      <td>0.08829</td>\n",
       "      <td>0.524</td>\n",
       "      <td>6.012</td>\n",
       "      <td>66.6</td>\n",
       "      <td>5.5605</td>\n",
       "      <td>311</td>\n",
       "      <td>15.2</td>\n",
       "      <td>395.60</td>\n",
       "      <td>12.43</td>\n",
       "      <td>22.9</td>\n",
       "    </tr>\n",
       "    <tr>\n",
       "      <th>7</th>\n",
       "      <td>3</td>\n",
       "      <td>-70.9375</td>\n",
       "      <td>0.14455</td>\n",
       "      <td>0.524</td>\n",
       "      <td>6.172</td>\n",
       "      <td>96.1</td>\n",
       "      <td>5.9505</td>\n",
       "      <td>311</td>\n",
       "      <td>15.2</td>\n",
       "      <td>396.90</td>\n",
       "      <td>19.15</td>\n",
       "      <td>27.1</td>\n",
       "    </tr>\n",
       "    <tr>\n",
       "      <th>8</th>\n",
       "      <td>3</td>\n",
       "      <td>-70.9330</td>\n",
       "      <td>0.21124</td>\n",
       "      <td>0.524</td>\n",
       "      <td>5.631</td>\n",
       "      <td>100.0</td>\n",
       "      <td>6.0821</td>\n",
       "      <td>311</td>\n",
       "      <td>15.2</td>\n",
       "      <td>386.63</td>\n",
       "      <td>29.93</td>\n",
       "      <td>16.5</td>\n",
       "    </tr>\n",
       "    <tr>\n",
       "      <th>9</th>\n",
       "      <td>3</td>\n",
       "      <td>-70.9290</td>\n",
       "      <td>0.17004</td>\n",
       "      <td>0.524</td>\n",
       "      <td>6.004</td>\n",
       "      <td>85.9</td>\n",
       "      <td>6.5921</td>\n",
       "      <td>311</td>\n",
       "      <td>15.2</td>\n",
       "      <td>386.71</td>\n",
       "      <td>17.10</td>\n",
       "      <td>18.9</td>\n",
       "    </tr>\n",
       "  </tbody>\n",
       "</table>\n",
       "</div>"
      ],
      "text/plain": [
       "   area_number  Longitude    crime  pollution_(nitrous_oxide)  \\\n",
       "0            0   -70.9550  0.00632                      0.538   \n",
       "1            1   -70.9500  0.02731                      0.469   \n",
       "2            1   -70.9360  0.02729                      0.469   \n",
       "3            2   -70.9280  0.03237                      0.458   \n",
       "4            2   -70.9220  0.06905                      0.458   \n",
       "5            2   -70.9165  0.02985                      0.458   \n",
       "6            3   -70.9360  0.08829                      0.524   \n",
       "7            3   -70.9375  0.14455                      0.524   \n",
       "8            3   -70.9330  0.21124                      0.524   \n",
       "9            3   -70.9290  0.17004                      0.524   \n",
       "\n",
       "   avr_rooms_per_house  %houses_built_<1940  distance_to_employment_offices  \\\n",
       "0                6.575                 65.2                          4.0900   \n",
       "1                6.421                 78.9                          4.9671   \n",
       "2                7.185                 61.1                          4.9671   \n",
       "3                6.998                 45.8                          6.0622   \n",
       "4                7.147                 54.2                          6.0622   \n",
       "5                6.430                 58.7                          6.0622   \n",
       "6                6.012                 66.6                          5.5605   \n",
       "7                6.172                 96.1                          5.9505   \n",
       "8                5.631                100.0                          6.0821   \n",
       "9                6.004                 85.9                          6.5921   \n",
       "\n",
       "   property tax  teacher-student_ratio  dark_skin_residents  poor_residents  \\\n",
       "0           296                   15.3               396.90            4.98   \n",
       "1           242                   17.8               396.90            9.14   \n",
       "2           242                   17.8               392.83            4.03   \n",
       "3           222                   18.7               394.63            2.94   \n",
       "4           222                   18.7               396.90            5.33   \n",
       "5           222                   18.7               394.12            5.21   \n",
       "6           311                   15.2               395.60           12.43   \n",
       "7           311                   15.2               396.90           19.15   \n",
       "8           311                   15.2               386.63           29.93   \n",
       "9           311                   15.2               386.71           17.10   \n",
       "\n",
       "   median_price  \n",
       "0          24.0  \n",
       "1          21.6  \n",
       "2          34.7  \n",
       "3          33.4  \n",
       "4          36.2  \n",
       "5          28.7  \n",
       "6          22.9  \n",
       "7          27.1  \n",
       "8          16.5  \n",
       "9          18.9  "
      ]
     },
     "execution_count": 2,
     "metadata": {},
     "output_type": "execute_result"
    }
   ],
   "source": [
    "df=pd.read_csv('Boston_housing_modified.csv', header =0)\n",
    "df.head(10)"
   ]
  },
  {
   "cell_type": "code",
   "execution_count": 3,
   "metadata": {},
   "outputs": [],
   "source": [
    "predictors = df.drop('median_price', axis = 1)\n",
    "target = df['median_price']"
   ]
  },
  {
   "cell_type": "code",
   "execution_count": 4,
   "metadata": {},
   "outputs": [],
   "source": [
    "from sklearn.ensemble import RandomForestRegressor\n",
    "\n",
    "\n",
    "model = RandomForestRegressor(n_estimators=11, random_state=10)"
   ]
  },
  {
   "cell_type": "code",
   "execution_count": 5,
   "metadata": {},
   "outputs": [
    {
     "data": {
      "text/plain": [
       "RFECV(cv=11, estimator=RandomForestRegressor(n_estimators=11, random_state=10),\n",
       "      scoring='r2')"
      ]
     },
     "execution_count": 5,
     "metadata": {},
     "output_type": "execute_result"
    }
   ],
   "source": [
    "from sklearn.feature_selection import RFECV\n",
    "\n",
    "\n",
    "rfecv = RFECV(estimator=model, step=1, cv=11, scoring='r2')\n",
    "# Code - Savo:\n",
    "# I would like to use a dimension selection tool called RFECV and give it a prediction tool to use as a parameter (Random Forest)\n",
    "# I would like RFECV to remove one dimension with each iteration (step = 1)\n",
    "# I would like the RFECV to divide the data into 5 parts for me and use these parts for effective validation of the results\n",
    "# I would like the RFECV to evaluate the results after each dimension drop using the \"accuracy\" measure already known to me\n",
    "# I still want the new iteration tool to be slid into a shell called \"dimension_selection tool\"\n",
    "\n",
    "rfecv.fit(predictors, target)"
   ]
  },
  {
   "cell_type": "code",
   "execution_count": 6,
   "metadata": {},
   "outputs": [
    {
     "name": "stdout",
     "output_type": "stream",
     "text": [
      "11\n"
     ]
    }
   ],
   "source": [
    "print (rfecv.n_features_)\n",
    "# Code -Savo:\n",
    "# I know that the RFCV tool has a \"n.features\" function that returns the optimal number of dimensions\n",
    "# Could you print it on the screen."
   ]
  },
  {
   "cell_type": "code",
   "execution_count": 7,
   "metadata": {},
   "outputs": [
    {
     "name": "stdout",
     "output_type": "stream",
     "text": [
      "[ True  True  True  True  True  True  True  True  True  True  True]\n"
     ]
    }
   ],
   "source": [
    "print (rfecv.support_)"
   ]
  },
  {
   "cell_type": "code",
   "execution_count": 8,
   "metadata": {},
   "outputs": [
    {
     "name": "stdout",
     "output_type": "stream",
     "text": [
      "[0.01702763 0.02047621 0.03532212 0.01826246 0.44681744 0.02132855\n",
      " 0.06524684 0.01876323 0.01304632 0.00833422 0.33537498]\n"
     ]
    }
   ],
   "source": [
    "print (rfecv.estimator_.feature_importances_)"
   ]
  },
  {
   "cell_type": "code",
   "execution_count": 9,
   "metadata": {},
   "outputs": [
    {
     "name": "stdout",
     "output_type": "stream",
     "text": [
      "[1 1 1 1 1 1 1 1 1 1 1]\n"
     ]
    }
   ],
   "source": [
    "print (rfecv.ranking_)"
   ]
  },
  {
   "cell_type": "code",
   "execution_count": 10,
   "metadata": {},
   "outputs": [
    {
     "data": {
      "image/png": "[encoded data removed]",
      "text/plain": [
       "<Figure size 1152x648 with 1 Axes>"
      ]
     },
     "metadata": {
      "needs_background": "light"
     },
     "output_type": "display_data"
    }
   ],
   "source": [
    "axis.figure(figsize=(16, 9))\n",
    "axis.title('Recursive Feature Elimination with Cross-Validation(RFEC)', fontsize=18, fontweight='bold', pad=20)\n",
    "axis.xlabel('Number of features selected', fontsize=14, labelpad=20)\n",
    "axis.ylabel('% Correct Classification', fontsize=14, labelpad=20)\n",
    "axis.plot(range(1, len(rfecv.grid_scores_) + 1), rfecv.grid_scores_, color='blue', linewidth=3)\n",
    "\n",
    "axis.show()"
   ]
  },
  {
   "cell_type": "code",
   "execution_count": 11,
   "metadata": {},
   "outputs": [],
   "source": [
    "predictors.drop(predictors.columns[np.where(rfecv.support_ == False)[0]], axis=1, inplace=True)\n",
    "predictors.insert(4,'median_price', df['median_price'])\n"
   ]
  },
  {
   "cell_type": "code",
   "execution_count": 12,
   "metadata": {},
   "outputs": [
    {
     "data": {
      "text/html": [
       "<div>\n",
       "<style scoped>\n",
       "    .dataframe tbody tr th:only-of-type {\n",
       "        vertical-align: middle;\n",
       "    }\n",
       "\n",
       "    .dataframe tbody tr th {\n",
       "        vertical-align: top;\n",
       "    }\n",
       "\n",
       "    .dataframe thead th {\n",
       "        text-align: right;\n",
       "    }\n",
       "</style>\n",
       "<table border=\"1\" class=\"dataframe\">\n",
       "  <thead>\n",
       "    <tr style=\"text-align: right;\">\n",
       "      <th></th>\n",
       "      <th>area_number</th>\n",
       "      <th>Longitude</th>\n",
       "      <th>crime</th>\n",
       "      <th>pollution_(nitrous_oxide)</th>\n",
       "      <th>median_price</th>\n",
       "      <th>avr_rooms_per_house</th>\n",
       "      <th>%houses_built_&lt;1940</th>\n",
       "      <th>distance_to_employment_offices</th>\n",
       "      <th>property tax</th>\n",
       "      <th>teacher-student_ratio</th>\n",
       "      <th>dark_skin_residents</th>\n",
       "      <th>poor_residents</th>\n",
       "    </tr>\n",
       "  </thead>\n",
       "  <tbody>\n",
       "    <tr>\n",
       "      <th>0</th>\n",
       "      <td>0</td>\n",
       "      <td>-70.955</td>\n",
       "      <td>0.00632</td>\n",
       "      <td>0.538</td>\n",
       "      <td>24.0</td>\n",
       "      <td>6.575</td>\n",
       "      <td>65.2</td>\n",
       "      <td>4.0900</td>\n",
       "      <td>296</td>\n",
       "      <td>15.3</td>\n",
       "      <td>396.90</td>\n",
       "      <td>4.98</td>\n",
       "    </tr>\n",
       "    <tr>\n",
       "      <th>1</th>\n",
       "      <td>1</td>\n",
       "      <td>-70.950</td>\n",
       "      <td>0.02731</td>\n",
       "      <td>0.469</td>\n",
       "      <td>21.6</td>\n",
       "      <td>6.421</td>\n",
       "      <td>78.9</td>\n",
       "      <td>4.9671</td>\n",
       "      <td>242</td>\n",
       "      <td>17.8</td>\n",
       "      <td>396.90</td>\n",
       "      <td>9.14</td>\n",
       "    </tr>\n",
       "    <tr>\n",
       "      <th>2</th>\n",
       "      <td>1</td>\n",
       "      <td>-70.936</td>\n",
       "      <td>0.02729</td>\n",
       "      <td>0.469</td>\n",
       "      <td>34.7</td>\n",
       "      <td>7.185</td>\n",
       "      <td>61.1</td>\n",
       "      <td>4.9671</td>\n",
       "      <td>242</td>\n",
       "      <td>17.8</td>\n",
       "      <td>392.83</td>\n",
       "      <td>4.03</td>\n",
       "    </tr>\n",
       "    <tr>\n",
       "      <th>3</th>\n",
       "      <td>2</td>\n",
       "      <td>-70.928</td>\n",
       "      <td>0.03237</td>\n",
       "      <td>0.458</td>\n",
       "      <td>33.4</td>\n",
       "      <td>6.998</td>\n",
       "      <td>45.8</td>\n",
       "      <td>6.0622</td>\n",
       "      <td>222</td>\n",
       "      <td>18.7</td>\n",
       "      <td>394.63</td>\n",
       "      <td>2.94</td>\n",
       "    </tr>\n",
       "    <tr>\n",
       "      <th>4</th>\n",
       "      <td>2</td>\n",
       "      <td>-70.922</td>\n",
       "      <td>0.06905</td>\n",
       "      <td>0.458</td>\n",
       "      <td>36.2</td>\n",
       "      <td>7.147</td>\n",
       "      <td>54.2</td>\n",
       "      <td>6.0622</td>\n",
       "      <td>222</td>\n",
       "      <td>18.7</td>\n",
       "      <td>396.90</td>\n",
       "      <td>5.33</td>\n",
       "    </tr>\n",
       "  </tbody>\n",
       "</table>\n",
       "</div>"
      ],
      "text/plain": [
       "   area_number  Longitude    crime  pollution_(nitrous_oxide)  median_price  \\\n",
       "0            0    -70.955  0.00632                      0.538          24.0   \n",
       "1            1    -70.950  0.02731                      0.469          21.6   \n",
       "2            1    -70.936  0.02729                      0.469          34.7   \n",
       "3            2    -70.928  0.03237                      0.458          33.4   \n",
       "4            2    -70.922  0.06905                      0.458          36.2   \n",
       "\n",
       "   avr_rooms_per_house  %houses_built_<1940  distance_to_employment_offices  \\\n",
       "0                6.575                 65.2                          4.0900   \n",
       "1                6.421                 78.9                          4.9671   \n",
       "2                7.185                 61.1                          4.9671   \n",
       "3                6.998                 45.8                          6.0622   \n",
       "4                7.147                 54.2                          6.0622   \n",
       "\n",
       "   property tax  teacher-student_ratio  dark_skin_residents  poor_residents  \n",
       "0           296                   15.3               396.90            4.98  \n",
       "1           242                   17.8               396.90            9.14  \n",
       "2           242                   17.8               392.83            4.03  \n",
       "3           222                   18.7               394.63            2.94  \n",
       "4           222                   18.7               396.90            5.33  "
      ]
     },
     "execution_count": 12,
     "metadata": {},
     "output_type": "execute_result"
    }
   ],
   "source": [
    "predictors.head()"
   ]
  },
  {
   "cell_type": "code",
   "execution_count": null,
   "metadata": {},
   "outputs": [],
   "source": []
  }
 ],
 "metadata": {
  "kernelspec": {
   "display_name": "Python 3",
   "language": "python",
   "name": "python3"
  },
  "language_info": {
   "codemirror_mode": {
    "name": "ipython",
    "version": 3
   },
   "file_extension": ".py",
   "mimetype": "text/x-python",
   "name": "python",
   "nbconvert_exporter": "python",
   "pygments_lexer": "ipython3",
   "version": "3.8.10"
  }
 },
 "nbformat": 4,
 "nbformat_minor": 4
}
