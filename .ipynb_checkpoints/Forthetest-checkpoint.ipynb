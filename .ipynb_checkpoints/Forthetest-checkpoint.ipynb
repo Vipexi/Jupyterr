{
 "cells": [
  {
   "cell_type": "code",
   "execution_count": 31,
   "metadata": {},
   "outputs": [
    {
     "name": "stdin",
     "output_type": "stream",
     "text": [
      "what is your name? Ville\n"
     ]
    },
    {
     "name": "stdout",
     "output_type": "stream",
     "text": [
      "Ville\n"
     ]
    }
   ],
   "source": [
    "user_name=input(\"what is your name?\")\n",
    "print(user_name)"
   ]
  },
  {
   "cell_type": "code",
   "execution_count": 33,
   "metadata": {},
   "outputs": [
    {
     "name": "stdin",
     "output_type": "stream",
     "text": [
      "Are you a student or a teacher? student\n"
     ]
    },
    {
     "name": "stdout",
     "output_type": "stream",
     "text": [
      "Hello student!\n"
     ]
    }
   ],
   "source": [
    "question=input(\"Are you a student or a teacher?\")\n",
    "if question == \"teacher\":\n",
    "    print(\"Hello teacher!\")\n",
    "if question == \"student\":\n",
    "    print(\"Hello student!\")"
   ]
  },
  {
   "cell_type": "code",
   "execution_count": 36,
   "metadata": {},
   "outputs": [
    {
     "name": "stdout",
     "output_type": "stream",
     "text": [
      "1\n",
      "2\n",
      "3\n",
      "4\n",
      "5\n"
     ]
    }
   ],
   "source": [
    "for numbers in range(1,6):\n",
    "    print(numbers)"
   ]
  },
  {
   "cell_type": "code",
   "execution_count": 37,
   "metadata": {},
   "outputs": [
    {
     "name": "stdout",
     "output_type": "stream",
     "text": [
      "2\n",
      "4\n",
      "6\n"
     ]
    }
   ],
   "source": [
    "for numbers in range(2,7,2):\n",
    "    print(numbers)"
   ]
  },
  {
   "cell_type": "code",
   "execution_count": 44,
   "metadata": {},
   "outputs": [
    {
     "name": "stdin",
     "output_type": "stream",
     "text": [
      "What is your favourite color? grey\n"
     ]
    },
    {
     "name": "stdout",
     "output_type": "stream",
     "text": [
      "so you like dark colours!\n"
     ]
    }
   ],
   "source": [
    "dark_colours=[\"grey\",\"black\",\"brown\"]\n",
    "light_colours=[\"white\",\"yellow\",\"red\"]\n",
    "\n",
    "favourite_color=input(\"What is your favourite color?\")\n",
    "if favourite_color in dark_colours:\n",
    "    print(\"so you like dark colours!\")\n",
    "if favourite_color in light_colours:\n",
    "    print(\"so you like light colours!\")\n"
   ]
  },
  {
   "cell_type": "code",
   "execution_count": 45,
   "metadata": {},
   "outputs": [
    {
     "name": "stdin",
     "output_type": "stream",
     "text": [
      "What is your name? Ville\n"
     ]
    },
    {
     "name": "stdout",
     "output_type": "stream",
     "text": [
      "Ville\n"
     ]
    }
   ],
   "source": [
    "def askName():\n",
    "    ask_name=input(\"What is your name?\")\n",
    "    print(ask_name)\n",
    "    \n",
    "askName()"
   ]
  },
  {
   "cell_type": "code",
   "execution_count": 51,
   "metadata": {},
   "outputs": [
    {
     "name": "stdout",
     "output_type": "stream",
     "text": [
      "And this holds a another sample: Roses are read and violets are blue!\n"
     ]
    }
   ],
   "source": [
    "#def text():\n",
    "    #print(\"this holds some text in it!\")\n",
    "\n",
    "def printName(text):\n",
    "    print(\"And this holds a another sample: Roses are read and violets are blue!\")\n",
    "    \n",
    "printName(text)"
   ]
  },
  {
   "cell_type": "code",
   "execution_count": null,
   "metadata": {},
   "outputs": [],
   "source": []
  }
 ],
 "metadata": {
  "kernelspec": {
   "display_name": "Python 3.8.2 64-bit",
   "language": "python",
   "name": "python38264bit0076514f24354075b40e04130ba53c8b"
  },
  "language_info": {
   "codemirror_mode": {
    "name": "ipython",
    "version": 3
   },
   "file_extension": ".py",
   "mimetype": "text/x-python",
   "name": "python",
   "nbconvert_exporter": "python",
   "pygments_lexer": "ipython3",
   "version": "3.8.2"
  }
 },
 "nbformat": 4,
 "nbformat_minor": 4
}
