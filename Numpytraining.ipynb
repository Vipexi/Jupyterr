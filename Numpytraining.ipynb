{
 "cells": [
  {
   "cell_type": "code",
   "execution_count": 536,
   "metadata": {},
   "outputs": [],
   "source": [
    "import numpy as np"
   ]
  },
  {
   "cell_type": "code",
   "execution_count": 484,
   "metadata": {},
   "outputs": [
    {
     "name": "stdout",
     "output_type": "stream",
     "text": [
      "[1 2 3 4]\n"
     ]
    }
   ],
   "source": [
    "my_array1 = np.array([1,2,3,4])\n",
    "print(my_array1)"
   ]
  },
  {
   "cell_type": "code",
   "execution_count": 485,
   "metadata": {},
   "outputs": [
    {
     "name": "stdout",
     "output_type": "stream",
     "text": [
      "2\n"
     ]
    }
   ],
   "source": [
    "print(my_array1[1])"
   ]
  },
  {
   "cell_type": "code",
   "execution_count": 486,
   "metadata": {},
   "outputs": [
    {
     "name": "stdout",
     "output_type": "stream",
     "text": [
      "3\n"
     ]
    }
   ],
   "source": [
    "print(my_array1[2])"
   ]
  },
  {
   "cell_type": "code",
   "execution_count": 487,
   "metadata": {},
   "outputs": [
    {
     "name": "stdout",
     "output_type": "stream",
     "text": [
      "1\n"
     ]
    }
   ],
   "source": [
    "print(my_array1[0])"
   ]
  },
  {
   "cell_type": "code",
   "execution_count": 488,
   "metadata": {},
   "outputs": [
    {
     "name": "stdout",
     "output_type": "stream",
     "text": [
      "[[ 1  2  3  4]\n",
      " [ 5  6  7  8]\n",
      " [ 9 10 11 12]]\n"
     ]
    }
   ],
   "source": [
    "my_array2 = np.array( [[1,2,3,4],[5,6,7,8],[9,10,11,12]] )\n",
    "print(my_array2)"
   ]
  },
  {
   "cell_type": "code",
   "execution_count": 489,
   "metadata": {},
   "outputs": [
    {
     "name": "stdout",
     "output_type": "stream",
     "text": [
      "3\n"
     ]
    }
   ],
   "source": [
    "print(my_array2[0,2])"
   ]
  },
  {
   "cell_type": "code",
   "execution_count": 490,
   "metadata": {},
   "outputs": [
    {
     "name": "stdout",
     "output_type": "stream",
     "text": [
      "1\n"
     ]
    }
   ],
   "source": [
    "print(my_array2[0,0])"
   ]
  },
  {
   "cell_type": "code",
   "execution_count": 491,
   "metadata": {},
   "outputs": [
    {
     "name": "stdout",
     "output_type": "stream",
     "text": [
      "11\n"
     ]
    }
   ],
   "source": [
    "print(my_array2[2,2])"
   ]
  },
  {
   "cell_type": "code",
   "execution_count": 492,
   "metadata": {},
   "outputs": [
    {
     "name": "stdout",
     "output_type": "stream",
     "text": [
      "5\n"
     ]
    }
   ],
   "source": [
    "print(my_array2[1,0])"
   ]
  },
  {
   "cell_type": "code",
   "execution_count": 493,
   "metadata": {},
   "outputs": [
    {
     "name": "stdout",
     "output_type": "stream",
     "text": [
      "[[[ 1  2  3  4]\n",
      "  [ 5  6  7  8]\n",
      "  [ 9 10 11 12]]\n",
      "\n",
      " [[13 14 15 16]\n",
      "  [17 18 19 20]\n",
      "  [21 22 23 24]]\n",
      "\n",
      " [[25 26 27 28]\n",
      "  [29 30 31 32]\n",
      "  [33 34 35 36]]]\n"
     ]
    }
   ],
   "source": [
    "sheet1 = np.array( [[1,2,3,4],[5,6,7,8],[9,10,11,12]] )\n",
    "sheet2 = np.array( [[13,14,15,16],[17,18,19,20],[21,22,23,24]] )\n",
    "sheet3 = np.array( [[25,26,27,28],[29,30,31,32],[33,34,35,36]] )\n",
    "\n",
    "my_array3=np.array([sheet1,sheet2,sheet3])\n",
    "print(my_array3)"
   ]
  },
  {
   "cell_type": "code",
   "execution_count": 494,
   "metadata": {},
   "outputs": [
    {
     "name": "stdout",
     "output_type": "stream",
     "text": [
      "3\n"
     ]
    }
   ],
   "source": [
    "print(my_array3[0,0,2])"
   ]
  },
  {
   "cell_type": "code",
   "execution_count": 495,
   "metadata": {},
   "outputs": [
    {
     "name": "stdout",
     "output_type": "stream",
     "text": [
      "1\n"
     ]
    }
   ],
   "source": [
    "print(my_array3[0,0,0])"
   ]
  },
  {
   "cell_type": "code",
   "execution_count": 496,
   "metadata": {},
   "outputs": [
    {
     "name": "stdout",
     "output_type": "stream",
     "text": [
      "24\n"
     ]
    }
   ],
   "source": [
    "print(my_array3[1,2,3])"
   ]
  },
  {
   "cell_type": "code",
   "execution_count": 497,
   "metadata": {},
   "outputs": [
    {
     "name": "stdout",
     "output_type": "stream",
     "text": [
      "35\n"
     ]
    }
   ],
   "source": [
    "print(my_array3[2,2,2])"
   ]
  },
  {
   "cell_type": "code",
   "execution_count": 498,
   "metadata": {},
   "outputs": [
    {
     "name": "stdout",
     "output_type": "stream",
     "text": [
      "19\n"
     ]
    }
   ],
   "source": [
    "print(my_array3[1,1,2])"
   ]
  },
  {
   "cell_type": "code",
   "execution_count": 499,
   "metadata": {},
   "outputs": [
    {
     "name": "stdout",
     "output_type": "stream",
     "text": [
      "18\n"
     ]
    }
   ],
   "source": [
    "print(my_array3[1,1,1])"
   ]
  },
  {
   "cell_type": "code",
   "execution_count": 500,
   "metadata": {},
   "outputs": [
    {
     "name": "stdout",
     "output_type": "stream",
     "text": [
      "12\n"
     ]
    }
   ],
   "source": [
    "print(my_array3[0,2,3])"
   ]
  },
  {
   "cell_type": "code",
   "execution_count": 501,
   "metadata": {},
   "outputs": [
    {
     "name": "stdout",
     "output_type": "stream",
     "text": [
      "[[[[  1   2   3   4]\n",
      "   [  5   6   7   8]\n",
      "   [  9  10  11  12]]\n",
      "\n",
      "  [[ 13  14  15  16]\n",
      "   [ 17  18  19  20]\n",
      "   [ 21  22  23  24]]\n",
      "\n",
      "  [[ 25  26  27  28]\n",
      "   [ 29  30  31  32]\n",
      "   [ 33  34  35  36]]]\n",
      "\n",
      "\n",
      " [[[ 37  38  39  40]\n",
      "   [ 41  42  43  44]\n",
      "   [ 45  46  47  48]]\n",
      "\n",
      "  [[ 49  50  51  52]\n",
      "   [ 53  54  55  56]\n",
      "   [ 57  58  59  60]]\n",
      "\n",
      "  [[ 61  62  63  64]\n",
      "   [ 65  66  67  68]\n",
      "   [ 69  70  71  72]]]\n",
      "\n",
      "\n",
      " [[[ 73  74  75  76]\n",
      "   [ 77  78  79  80]\n",
      "   [ 81  82  83  84]]\n",
      "\n",
      "  [[ 85  86  87  88]\n",
      "   [ 89  90  91  92]\n",
      "   [ 93  94  95  96]]\n",
      "\n",
      "  [[ 97  98  99 100]\n",
      "   [101 102 103 104]\n",
      "   [105 106 107 108]]]]\n"
     ]
    }
   ],
   "source": [
    "sheet1 = np.array( [[1,2,3,4],[5,6,7,8],[9,10,11,12]] )\n",
    "sheet2 = np.array( [[13,14,15,16],[17,18,19,20],[21,22,23,24]] )\n",
    "sheet3 = np.array( [[25,26,27,28],[29,30,31,32],[33,34,35,36]] )\n",
    "workbook1=np.array([sheet1,sheet2,sheet3])\n",
    "\n",
    "sheet4 = np.array( [[37,38,39,40],[41,42,43,44],[45,46,47,48]] )\n",
    "sheet5 = np.array( [[49,50,51,52],[53,54,55,56],[57,58,59,60]] )\n",
    "sheet6 = np.array( [[61,62,63,64],[65,66,67,68],[69,70,71,72]] )\n",
    "workbook2=np.array([sheet4,sheet5,sheet6])\n",
    "\n",
    "sheet7 = np.array( [[73,74,75,76],[77,78,79,80],[81,82,83,84]] )\n",
    "sheet8 = np.array( [[85,86,87,88],[89,90,91,92],[93,94,95,96]] )\n",
    "sheet9 = np.array( [[97,98,99,100],[101,102,103,104],[105,106,107,108]] )\n",
    "workbook3=np.array([sheet7,sheet8,sheet9])\n",
    "\n",
    "my_array4=np.array([workbook1,workbook2,workbook3])\n",
    "\n",
    "print(my_array4)"
   ]
  },
  {
   "cell_type": "code",
   "execution_count": 502,
   "metadata": {},
   "outputs": [
    {
     "name": "stdout",
     "output_type": "stream",
     "text": [
      "3\n"
     ]
    }
   ],
   "source": [
    "print(my_array4[0,0,0,2])"
   ]
  },
  {
   "cell_type": "code",
   "execution_count": 503,
   "metadata": {},
   "outputs": [
    {
     "name": "stdout",
     "output_type": "stream",
     "text": [
      "1\n"
     ]
    }
   ],
   "source": [
    "print(my_array4[0,0,0,0])"
   ]
  },
  {
   "cell_type": "code",
   "execution_count": 504,
   "metadata": {},
   "outputs": [
    {
     "name": "stdout",
     "output_type": "stream",
     "text": [
      "13\n"
     ]
    }
   ],
   "source": [
    "print(my_array4[0,1,0,0])"
   ]
  },
  {
   "cell_type": "code",
   "execution_count": 505,
   "metadata": {},
   "outputs": [
    {
     "name": "stdout",
     "output_type": "stream",
     "text": [
      "73\n"
     ]
    }
   ],
   "source": [
    "print(my_array4[2,0,0,0])"
   ]
  },
  {
   "cell_type": "code",
   "execution_count": 506,
   "metadata": {},
   "outputs": [
    {
     "name": "stdout",
     "output_type": "stream",
     "text": [
      "56\n"
     ]
    }
   ],
   "source": [
    "print(my_array4[1,1,1,3])"
   ]
  },
  {
   "cell_type": "code",
   "execution_count": 507,
   "metadata": {},
   "outputs": [
    {
     "name": "stdout",
     "output_type": "stream",
     "text": [
      "85\n"
     ]
    }
   ],
   "source": [
    "print(my_array4[2,1,0,0])"
   ]
  },
  {
   "cell_type": "code",
   "execution_count": 508,
   "metadata": {},
   "outputs": [
    {
     "name": "stdout",
     "output_type": "stream",
     "text": [
      "108\n"
     ]
    }
   ],
   "source": [
    "print(my_array4[2,2,2,3])"
   ]
  },
  {
   "cell_type": "code",
   "execution_count": 509,
   "metadata": {},
   "outputs": [],
   "source": [
    "my_array0 = np.array([109])"
   ]
  },
  {
   "cell_type": "code",
   "execution_count": 510,
   "metadata": {},
   "outputs": [
    {
     "name": "stdout",
     "output_type": "stream",
     "text": [
      "109\n"
     ]
    }
   ],
   "source": [
    "print(my_array0[0])"
   ]
  },
  {
   "cell_type": "code",
   "execution_count": 511,
   "metadata": {},
   "outputs": [],
   "source": [
    "one_array=np.array([23,63,45,89])"
   ]
  },
  {
   "cell_type": "code",
   "execution_count": 512,
   "metadata": {},
   "outputs": [
    {
     "name": "stdout",
     "output_type": "stream",
     "text": [
      "89\n"
     ]
    }
   ],
   "source": [
    "print(one_array[3])"
   ]
  },
  {
   "cell_type": "code",
   "execution_count": 513,
   "metadata": {},
   "outputs": [],
   "source": [
    "two_array=np.array([45,66,78,12,34,48,22,92])"
   ]
  },
  {
   "cell_type": "code",
   "execution_count": 514,
   "metadata": {},
   "outputs": [
    {
     "name": "stdout",
     "output_type": "stream",
     "text": [
      "66\n"
     ]
    }
   ],
   "source": [
    "print(two_array[1])"
   ]
  },
  {
   "cell_type": "code",
   "execution_count": 515,
   "metadata": {},
   "outputs": [],
   "source": [
    "twod_array=np.array([[1,2,3,4],[5,6,7,8],[9,10,11,12]])"
   ]
  },
  {
   "cell_type": "code",
   "execution_count": 516,
   "metadata": {},
   "outputs": [
    {
     "name": "stdout",
     "output_type": "stream",
     "text": [
      "[[ 1  2  3  4]\n",
      " [ 5  6  7  8]\n",
      " [ 9 10 11 12]]\n"
     ]
    }
   ],
   "source": [
    "print(twod_array)"
   ]
  },
  {
   "cell_type": "code",
   "execution_count": 517,
   "metadata": {},
   "outputs": [
    {
     "name": "stdout",
     "output_type": "stream",
     "text": [
      "[range(0, 4) <range_iterator object at 0x7f24bc004e10>]\n"
     ]
    },
    {
     "name": "stderr",
     "output_type": "stream",
     "text": [
      "<ipython-input-517-068e79237f03>:1: VisibleDeprecationWarning: Creating an ndarray from ragged nested sequences (which is a list-or-tuple of lists-or-tuples-or ndarrays with different lengths or shapes) is deprecated. If you meant to do this, you must specify 'dtype=object' when creating the ndarray\n",
      "  my_array=np.array([range(4),reversed(range(4))])\n"
     ]
    }
   ],
   "source": [
    "my_array=np.array([range(4),reversed(range(4))])\n",
    "print(my_array)"
   ]
  },
  {
   "cell_type": "code",
   "execution_count": 518,
   "metadata": {},
   "outputs": [],
   "source": [
    "range_array1=np.array([range(4),range(4,8)])"
   ]
  },
  {
   "cell_type": "code",
   "execution_count": 519,
   "metadata": {},
   "outputs": [
    {
     "name": "stdout",
     "output_type": "stream",
     "text": [
      "[[0 1 2 3]\n",
      " [4 5 6 7]]\n"
     ]
    }
   ],
   "source": [
    "print(range_array1)"
   ]
  },
  {
   "cell_type": "code",
   "execution_count": 520,
   "metadata": {},
   "outputs": [],
   "source": [
    "range_array1=np.array([range(4)])\n",
    "x = np.array([range(1,5)])\n",
    "range_array2=np.flip(x)\n",
    "concatenated=np.concatenate((range_array1, range_array2))"
   ]
  },
  {
   "cell_type": "code",
   "execution_count": 521,
   "metadata": {},
   "outputs": [
    {
     "name": "stdout",
     "output_type": "stream",
     "text": [
      "[[0 1 2 3]\n",
      " [4 3 2 1]]\n"
     ]
    }
   ],
   "source": [
    "print(concatenated)"
   ]
  },
  {
   "cell_type": "code",
   "execution_count": 537,
   "metadata": {},
   "outputs": [],
   "source": [
    "my_array1=np.array([range(8)])\n",
    "my_array2=np.array([range(1,9)])\n",
    "flipped_array=np.flip(my_array2)"
   ]
  },
  {
   "cell_type": "code",
   "execution_count": 538,
   "metadata": {},
   "outputs": [],
   "source": [
    "concated_array=np.concatenate((my_array1, flipped_array))\n",
    "reashaped_array=concated_array.reshape(4,4)"
   ]
  },
  {
   "cell_type": "code",
   "execution_count": 540,
   "metadata": {},
   "outputs": [
    {
     "name": "stdout",
     "output_type": "stream",
     "text": [
      "[[0 1 2 3]\n",
      " [4 5 6 7]\n",
      " [8 7 6 5]\n",
      " [4 3 2 1]]\n"
     ]
    }
   ],
   "source": [
    "print(reashaped_array)"
   ]
  },
  {
   "cell_type": "code",
   "execution_count": 525,
   "metadata": {},
   "outputs": [
    {
     "name": "stdout",
     "output_type": "stream",
     "text": [
      "[[ 0  2  4  6  8 10 12 14]] [[ 2  4  6  8 10 12 14 16]]\n"
     ]
    }
   ],
   "source": [
    "my_array1=np.array([range(0,16,2)])\n",
    "my_array2=np.array([range(2,18,2)])\n",
    "print(my_array1, my_array2)"
   ]
  },
  {
   "cell_type": "code",
   "execution_count": 526,
   "metadata": {},
   "outputs": [],
   "source": [
    "flipped=np.flip(my_array2)"
   ]
  },
  {
   "cell_type": "code",
   "execution_count": 527,
   "metadata": {},
   "outputs": [],
   "source": [
    "concatenated=np.concatenate((my_array1, flipped))"
   ]
  },
  {
   "cell_type": "code",
   "execution_count": 528,
   "metadata": {},
   "outputs": [
    {
     "name": "stdout",
     "output_type": "stream",
     "text": [
      "[[ 0  2  4  6  8 10 12 14]\n",
      " [16 14 12 10  8  6  4  2]]\n"
     ]
    }
   ],
   "source": [
    "print(concatenated)"
   ]
  },
  {
   "cell_type": "code",
   "execution_count": 529,
   "metadata": {},
   "outputs": [
    {
     "data": {
      "text/plain": [
       "array([[ 0,  2,  4,  6],\n",
       "       [ 8, 10, 12, 14],\n",
       "       [16, 14, 12, 10],\n",
       "       [ 8,  6,  4,  2]])"
      ]
     },
     "execution_count": 529,
     "metadata": {},
     "output_type": "execute_result"
    }
   ],
   "source": [
    "concatenated.reshape(4,4)"
   ]
  },
  {
   "cell_type": "code",
   "execution_count": 530,
   "metadata": {},
   "outputs": [
    {
     "name": "stdout",
     "output_type": "stream",
     "text": [
      "[[[ 0 10 20 30 40 50 60 70 80 90]]] [[[ 100  200  300  400  500  600  700  800  900 1000]]]\n"
     ]
    }
   ],
   "source": [
    "my_array1=np.array([[range(0,100,10)]])\n",
    "my_array2=np.array([[range(100,1100,100)]])\n",
    "print(my_array1, my_array2)"
   ]
  },
  {
   "cell_type": "code",
   "execution_count": 531,
   "metadata": {},
   "outputs": [],
   "source": [
    "my_array3=np.array([[range(0,100,10)]])\n",
    "my_array4=np.array([[range(100,1100,100)]])"
   ]
  },
  {
   "cell_type": "code",
   "execution_count": 532,
   "metadata": {},
   "outputs": [
    {
     "name": "stdout",
     "output_type": "stream",
     "text": [
      "[[[ 0 10 20 30 40 50 60 70 80 90]]] [[[ 100  200  300  400  500  600  700  800  900 1000]]]\n"
     ]
    }
   ],
   "source": [
    "print(my_array3, my_array4)"
   ]
  },
  {
   "cell_type": "code",
   "execution_count": 533,
   "metadata": {},
   "outputs": [],
   "source": [
    "flipped1=np.flip(my_array3)"
   ]
  },
  {
   "cell_type": "code",
   "execution_count": 534,
   "metadata": {},
   "outputs": [],
   "source": [
    "flipped2=np.flip(my_array4)"
   ]
  },
  {
   "cell_type": "code",
   "execution_count": 535,
   "metadata": {},
   "outputs": [],
   "source": [
    "concatenated=np.concatenate((my_array1, my_array2, flipped2, flipped1))"
   ]
  },
  {
   "cell_type": "code",
   "execution_count": 482,
   "metadata": {},
   "outputs": [
    {
     "name": "stdout",
     "output_type": "stream",
     "text": [
      "[[[   0   10   20   30   40   50   60   70   80   90]]\n",
      "\n",
      " [[ 100  200  300  400  500  600  700  800  900 1000]]\n",
      "\n",
      " [[1000  900  800  700  600  500  400  300  200  100]]\n",
      "\n",
      " [[  90   80   70   60   50   40   30   20   10    0]]]\n"
     ]
    }
   ],
   "source": [
    "print(concatenated)"
   ]
  },
  {
   "cell_type": "code",
   "execution_count": null,
   "metadata": {},
   "outputs": [],
   "source": []
  }
 ],
 "metadata": {
  "kernelspec": {
   "display_name": "Python 3.8.2 64-bit",
   "language": "python",
   "name": "python38264bit0076514f24354075b40e04130ba53c8b"
  },
  "language_info": {
   "codemirror_mode": {
    "name": "ipython",
    "version": 3
   },
   "file_extension": ".py",
   "mimetype": "text/x-python",
   "name": "python",
   "nbconvert_exporter": "python",
   "pygments_lexer": "ipython3",
   "version": "3.8.2"
  }
 },
 "nbformat": 4,
 "nbformat_minor": 4
}
