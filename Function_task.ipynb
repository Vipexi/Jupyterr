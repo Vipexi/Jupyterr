{
 "cells": [
  {
   "cell_type": "code",
   "execution_count": 19,
   "metadata": {},
   "outputs": [
    {
     "ename": "IndentationError",
     "evalue": "unindent does not match any outer indentation level (<tokenize>, line 9)",
     "output_type": "error",
     "traceback": [
      "\u001b[0;36m  File \u001b[0;32m\"<tokenize>\"\u001b[0;36m, line \u001b[0;32m9\u001b[0m\n\u001b[0;31m    for user_answer in user_answers :\u001b[0m\n\u001b[0m    ^\u001b[0m\n\u001b[0;31mIndentationError\u001b[0m\u001b[0;31m:\u001b[0m unindent does not match any outer indentation level\n"
     ]
    }
   ],
   "source": [
    "user_answers = []\n",
    "\n",
    "def my_pentagram(user_answers) :\n",
    "    for user_answer in user_answers :\n",
    "        print(user_answer)\n",
    "\n",
    "def my_numbers(user_answers) :\n",
    "     index=0\n",
    "    for user_answer in user_answers :\n",
    "        if index == 0 or index == 1 or index ==3 :\n",
    "            print(user_answer)\n",
    "             index= index+1\n",
    "\n",
    "def my_tales(user_answers) :\n",
    "    for user_answer in user_answers :\n",
    "        if user_answer.lower() == \"tales\" :\n",
    "            print(user_answer)\n",
    "\n",
    "for x in range(5) : \n",
    "    answer=input(\"Heads or tales?\")\n",
    "    user_answers.append(answer)\n",
    "    print(\"all_answers\")\n",
    "\n",
    "for answer in user_answers :\n",
    "print(answer)\n",
    "\n",
    "\n",
    "\n",
    "print(\"all answers again:\")\n",
    "my_pentagram(user_answers)\n",
    "print(\"1,2,4 answers:\")\n",
    "my_numbers(user_answers)\n",
    "print(\"answer with tales:\")\n",
    "my_tales(user_answers)\n"
   ]
  },
  {
   "cell_type": "code",
   "execution_count": 35,
   "metadata": {},
   "outputs": [
    {
     "ename": "NameError",
     "evalue": "name 'printAll' is not defined",
     "output_type": "error",
     "traceback": [
      "\u001b[0;31m---------------------------------------------------------------------------\u001b[0m",
      "\u001b[0;31mNameError\u001b[0m                                 Traceback (most recent call last)",
      "\u001b[0;32m<ipython-input-35-adb9efac4d4b>\u001b[0m in \u001b[0;36m<module>\u001b[0;34m\u001b[0m\n\u001b[1;32m     17\u001b[0m     \u001b[0mprint\u001b[0m\u001b[0;34m(\u001b[0m\u001b[0muser_answers\u001b[0m\u001b[0;34m)\u001b[0m\u001b[0;34m\u001b[0m\u001b[0;34m\u001b[0m\u001b[0m\n\u001b[1;32m     18\u001b[0m \u001b[0;34m\u001b[0m\u001b[0m\n\u001b[0;32m---> 19\u001b[0;31m \u001b[0mprintAll\u001b[0m\u001b[0;34m(\u001b[0m\u001b[0;34m)\u001b[0m\u001b[0;34m\u001b[0m\u001b[0;34m\u001b[0m\u001b[0m\n\u001b[0m\u001b[1;32m     20\u001b[0m \u001b[0;34m\u001b[0m\u001b[0m\n\u001b[1;32m     21\u001b[0m \u001b[0mprintNumbers\u001b[0m\u001b[0;34m(\u001b[0m\u001b[0;34m)\u001b[0m\u001b[0;34m\u001b[0m\u001b[0;34m\u001b[0m\u001b[0m\n",
      "\u001b[0;31mNameError\u001b[0m: name 'printAll' is not defined"
     ]
    }
   ],
   "source": [
    "def printNumbers():\n",
    "    for x in (0,1,3):\n",
    "        print(user_answers[x])\n",
    "        \n",
    "def printTales():\n",
    "    for x in user_answers:\n",
    "        if x == \"tales\":\n",
    "            print(x)\n",
    "\n",
    "def printnumbersofitems():\n",
    "    print(len(user_answers))\n",
    "    \n",
    "def insertElementIndex():\n",
    "    user_answer = input (\"head or tales?\")\n",
    "    number = int(input(\"Give a number to add in the list\"))\n",
    "    user_answer.insert(number, user_answer)\n",
    "    print(user_answers)\n",
    "    \n",
    "printAll()\n",
    "\n",
    "printNumbers()\n",
    "\n",
    "printTales()\n",
    "\n",
    "printNumbersOfItems()\n",
    "\n",
    "insertElementIndex()"
   ]
  },
  {
   "cell_type": "code",
   "execution_count": 39,
   "metadata": {},
   "outputs": [
    {
     "name": "stdout",
     "output_type": "stream",
     "text": [
      "local\n",
      "local\n"
     ]
    }
   ],
   "source": [
    "my_global_variable=\"Global\"\n",
    "\n",
    "def function1():\n",
    "    global my_global_variable\n",
    "    my_global_variable=\"local\"\n",
    "    print(my_global_variable)\n",
    "    \n",
    "function1()\n",
    "print(my_global_variable)"
   ]
  },
  {
   "cell_type": "code",
   "execution_count": 42,
   "metadata": {},
   "outputs": [
    {
     "name": "stdout",
     "output_type": "stream",
     "text": [
      "2\n",
      "1\n"
     ]
    }
   ],
   "source": [
    "x=1\n",
    "\n",
    "def function1():\n",
    "    x=2\n",
    "    print(x)\n",
    "function1()\n",
    "\n",
    "print(x)"
   ]
  },
  {
   "cell_type": "code",
   "execution_count": 17,
   "metadata": {},
   "outputs": [
    {
     "name": "stdin",
     "output_type": "stream",
     "text": [
      "What's your name? Ville\n"
     ]
    },
    {
     "name": "stdout",
     "output_type": "stream",
     "text": [
      "2\n",
      "['kiva nimi']\n",
      "1\n"
     ]
    }
   ],
   "source": [
    "name_list=[]\n",
    "number=1\n",
    "\n",
    "def function1():\n",
    "    name = input(\"What's your name?\")\n",
    "    global name_list\n",
    "    number=2\n",
    "    print(number)\n",
    "    \n",
    "function1()\n",
    "name_list.append(\"kiva nimi\")\n",
    "print(name_list)\n",
    "print(number)"
   ]
  },
  {
   "cell_type": "code",
   "execution_count": 59,
   "metadata": {},
   "outputs": [
    {
     "name": "stdin",
     "output_type": "stream",
     "text": [
      "How old are you? 13\n"
     ]
    },
    {
     "name": "stdout",
     "output_type": "stream",
     "text": [
      "13\n"
     ]
    }
   ],
   "source": [
    "user_age=0\n",
    "\n",
    "def myfunction1():\n",
    "    age=int(input(\"How old are you?\"))\n",
    "    global user_age\n",
    "    user_age=age\n",
    "    \n",
    "myfunction1()\n",
    "print(user_age)"
   ]
  },
  {
   "cell_type": "code",
   "execution_count": 64,
   "metadata": {},
   "outputs": [
    {
     "name": "stdin",
     "output_type": "stream",
     "text": [
      "a number, please : 13\n"
     ]
    },
    {
     "name": "stdout",
     "output_type": "stream",
     "text": [
      "10 x 13 = 0\n"
     ]
    }
   ],
   "source": [
    "number1=10\n",
    "multiplier=0\n",
    "result=0\n",
    "\n",
    "def function1():\n",
    "    global result\n",
    "    global multiplier\n",
    "    user_number=int(input(\"a number, please :\"))\n",
    "    result=number1*multiplier\n",
    "    multiplier=user_number\n",
    "    \n",
    "function1()\n",
    "print(number1, \"x\", multiplier, \"=\",result )"
   ]
  },
  {
   "cell_type": "code",
   "execution_count": 19,
   "metadata": {},
   "outputs": [],
   "source": [
    "def function3():\n",
    "    for x in user_answers:\n",
    "        if x == \"tails\":\n",
    "            print(x)\n",
    "            \n",
    "def function4(function1):\n",
    "    print(len(user_answers))\n",
    "    \n",
    "def function5(user_answers):\n",
    "    n=input(\"Would you like to change an answers?\")\n",
    "    if n ==\"yes\":\n",
    "        index = int"
   ]
  },
  {
   "cell_type": "code",
   "execution_count": 66,
   "metadata": {},
   "outputs": [
    {
     "name": "stdout",
     "output_type": "stream",
     "text": [
      "times my code went through here  0\n",
      "times my code went through here  1\n",
      "times my code went through here  2\n"
     ]
    }
   ],
   "source": [
    "loop_nro=[]\n",
    "\n",
    "for loop_nro in range(3):\n",
    "    print(\"times my code went through here \",loop_nro )\n",
    "    "
   ]
  },
  {
   "cell_type": "code",
   "execution_count": 77,
   "metadata": {},
   "outputs": [
    {
     "name": "stdin",
     "output_type": "stream",
     "text": [
      "heads or tales? heads\n",
      "heads or tales? tales\n",
      "give me an index 0\n"
     ]
    },
    {
     "name": "stdout",
     "output_type": "stream",
     "text": [
      "['heads', 'tales']\n"
     ]
    }
   ],
   "source": [
    "user_answers=[]\n",
    "\n",
    "def function1():\n",
    "    global user_answers\n",
    "    ask=input(\"heads or tales?\")\n",
    "    user_answers.append(ask)\n",
    "    \n",
    "def function2():\n",
    "    function1()\n",
    "    print(len(user_answers))\n",
    "    \n",
    "def function3():\n",
    "    ask=input(\"heads or tales?\")\n",
    "    ask2=input(\"heads or tales?\")\n",
    "    user_answers.append(ask2)\n",
    "    integrer=int(input(\"give me an index\"))\n",
    "    user_answers.insert(integrer, ask)\n",
    "    \n",
    "\n",
    "function3()\n",
    "print(user_answers)"
   ]
  },
  {
   "cell_type": "code",
   "execution_count": 80,
   "metadata": {},
   "outputs": [
    {
     "name": "stdout",
     "output_type": "stream",
     "text": [
      "item1 , item2 , item3\n"
     ]
    }
   ],
   "source": [
    "my_list=[\"item1 , item2 , item3\"]\n",
    "\n",
    "for things in my_list:\n",
    "    print (things)"
   ]
  },
  {
   "cell_type": "code",
   "execution_count": 81,
   "metadata": {},
   "outputs": [
    {
     "name": "stdout",
     "output_type": "stream",
     "text": [
      "kertoja kun koodi menee läpi tästä 0\n",
      "kertoja kun koodi menee läpi tästä 1\n",
      "kertoja kun koodi menee läpi tästä 2\n"
     ]
    }
   ],
   "source": [
    "for loop_nro in range(3):\n",
    "    print(\"kertoja kun koodi menee läpi tästä\" , loop_nro)"
   ]
  },
  {
   "cell_type": "code",
   "execution_count": 83,
   "metadata": {},
   "outputs": [
    {
     "name": "stdout",
     "output_type": "stream",
     "text": [
      "kertoja kun koodi menee läpi tästä 2\n",
      "kertoja kun koodi menee läpi tästä 4\n",
      "kertoja kun koodi menee läpi tästä 6\n",
      "kertoja kun koodi menee läpi tästä 8\n"
     ]
    }
   ],
   "source": [
    "for loop_nro in range(2,10,2):\n",
    "    print(\"kertoja kun koodi menee läpi tästä\", loop_nro)"
   ]
  },
  {
   "cell_type": "code",
   "execution_count": 85,
   "metadata": {},
   "outputs": [
    {
     "name": "stdout",
     "output_type": "stream",
     "text": [
      "the index when my code went trough here 0\n",
      "the index when my code went trough here 1\n",
      "the index when my code went trough here 6\n",
      "the index when my code went trough here 23\n"
     ]
    }
   ],
   "source": [
    "indexes_list=[0,1,6,23]\n",
    "for index in indexes_list:\n",
    "    print(\"the index when my code went trough here\",index)"
   ]
  },
  {
   "cell_type": "code",
   "execution_count": 86,
   "metadata": {},
   "outputs": [
    {
     "name": "stdout",
     "output_type": "stream",
     "text": [
      "the index when my code went trough here 0\n",
      "the index when my code went trough here 1\n",
      "the index when my code went trough here 6\n",
      "the index when my code went trough here 23\n"
     ]
    }
   ],
   "source": [
    "for index in [0,1,6,23]:\n",
    "    print(\"the index when my code went trough here\", index)"
   ]
  },
  {
   "cell_type": "code",
   "execution_count": 13,
   "metadata": {},
   "outputs": [
    {
     "name": "stdout",
     "output_type": "stream",
     "text": [
      "local\n",
      "global\n"
     ]
    }
   ],
   "source": [
    "my_global_variable=\"global\"\n",
    "\n",
    "def function1():\n",
    "    global my_global_variable\n",
    "    my_local_variable=\"local\"\n",
    "    print(my_local_variable)\n",
    "\n",
    "function1()\n",
    "print(my_global_variable)"
   ]
  },
  {
   "cell_type": "code",
   "execution_count": 96,
   "metadata": {},
   "outputs": [
    {
     "name": "stdout",
     "output_type": "stream",
     "text": [
      "2\n",
      "2\n",
      "2\n"
     ]
    }
   ],
   "source": [
    "x=1\n",
    "\n",
    "def function1():\n",
    "    global x\n",
    "    x=2\n",
    "    print(x)\n",
    "    print(x)\n",
    "function1()\n",
    "print(x)"
   ]
  },
  {
   "cell_type": "code",
   "execution_count": 14,
   "metadata": {},
   "outputs": [
    {
     "name": "stdin",
     "output_type": "stream",
     "text": [
      "heads or tails? tails\n"
     ]
    },
    {
     "ename": "AttributeError",
     "evalue": "'int' object has no attribute 'append'",
     "output_type": "error",
     "traceback": [
      "\u001b[0;31m---------------------------------------------------------------------------\u001b[0m",
      "\u001b[0;31mAttributeError\u001b[0m                            Traceback (most recent call last)",
      "\u001b[0;32m<ipython-input-14-6d6abdb3dcb5>\u001b[0m in \u001b[0;36m<module>\u001b[0;34m\u001b[0m\n\u001b[1;32m      6\u001b[0m         \u001b[0muser_answers\u001b[0m\u001b[0;34m.\u001b[0m\u001b[0mappend\u001b[0m\u001b[0;34m(\u001b[0m\u001b[0manswers\u001b[0m\u001b[0;34m)\u001b[0m\u001b[0;34m\u001b[0m\u001b[0;34m\u001b[0m\u001b[0m\n\u001b[1;32m      7\u001b[0m \u001b[0;34m\u001b[0m\u001b[0m\n\u001b[0;32m----> 8\u001b[0;31m \u001b[0mmyfunction1\u001b[0m\u001b[0;34m(\u001b[0m\u001b[0;34m)\u001b[0m\u001b[0;34m\u001b[0m\u001b[0;34m\u001b[0m\u001b[0m\n\u001b[0m\u001b[1;32m      9\u001b[0m \u001b[0mprint\u001b[0m\u001b[0;34m(\u001b[0m\u001b[0muser_answers\u001b[0m\u001b[0;34m)\u001b[0m\u001b[0;34m\u001b[0m\u001b[0;34m\u001b[0m\u001b[0m\n",
      "\u001b[0;32m<ipython-input-14-6d6abdb3dcb5>\u001b[0m in \u001b[0;36mmyfunction1\u001b[0;34m()\u001b[0m\n\u001b[1;32m      4\u001b[0m     \u001b[0;32mfor\u001b[0m \u001b[0muser_answers\u001b[0m \u001b[0;32min\u001b[0m \u001b[0mrange\u001b[0m\u001b[0;34m(\u001b[0m\u001b[0;36m5\u001b[0m\u001b[0;34m)\u001b[0m\u001b[0;34m:\u001b[0m\u001b[0;34m\u001b[0m\u001b[0;34m\u001b[0m\u001b[0m\n\u001b[1;32m      5\u001b[0m         \u001b[0manswers\u001b[0m\u001b[0;34m=\u001b[0m\u001b[0minput\u001b[0m\u001b[0;34m(\u001b[0m\u001b[0;34m\"heads or tails?\"\u001b[0m\u001b[0;34m)\u001b[0m\u001b[0;34m\u001b[0m\u001b[0;34m\u001b[0m\u001b[0m\n\u001b[0;32m----> 6\u001b[0;31m         \u001b[0muser_answers\u001b[0m\u001b[0;34m.\u001b[0m\u001b[0mappend\u001b[0m\u001b[0;34m(\u001b[0m\u001b[0manswers\u001b[0m\u001b[0;34m)\u001b[0m\u001b[0;34m\u001b[0m\u001b[0;34m\u001b[0m\u001b[0m\n\u001b[0m\u001b[1;32m      7\u001b[0m \u001b[0;34m\u001b[0m\u001b[0m\n\u001b[1;32m      8\u001b[0m \u001b[0mmyfunction1\u001b[0m\u001b[0;34m(\u001b[0m\u001b[0;34m)\u001b[0m\u001b[0;34m\u001b[0m\u001b[0;34m\u001b[0m\u001b[0m\n",
      "\u001b[0;31mAttributeError\u001b[0m: 'int' object has no attribute 'append'"
     ]
    }
   ],
   "source": [
    "user_answers:[]\n",
    "\n",
    "def myfunction1():\n",
    "    for user_answers in range(5):\n",
    "        answers=input(\"heads or tails?\")\n",
    "        user_answers.append(answers)\n",
    "        \n",
    "myfunction1()\n",
    "print(user_answers)"
   ]
  },
  {
   "cell_type": "code",
   "execution_count": 32,
   "metadata": {},
   "outputs": [
    {
     "name": "stdin",
     "output_type": "stream",
     "text": [
      "3 1\n",
      "2 1\n"
     ]
    },
    {
     "name": "stdout",
     "output_type": "stream",
     "text": [
      "2\n"
     ]
    }
   ],
   "source": [
    "number1 = int(input(\"3\"))\n",
    "number2 = int(input(\"2\"))\n",
    "\n",
    "sum = number1 + number2\n",
    "\n",
    "print(sum)"
   ]
  },
  {
   "cell_type": "code",
   "execution_count": 53,
   "metadata": {},
   "outputs": [],
   "source": [
    "user_answers=[]\n",
    "\n",
    "def myfunction1():\n",
    "    for user_answers in (user_answers):\n",
    "        user_answers=input(\"heads or tales?\")\n",
    "    \n",
    "    "
   ]
  },
  {
   "cell_type": "code",
   "execution_count": 54,
   "metadata": {},
   "outputs": [
    {
     "ename": "UnboundLocalError",
     "evalue": "local variable 'user_answers' referenced before assignment",
     "output_type": "error",
     "traceback": [
      "\u001b[0;31m---------------------------------------------------------------------------\u001b[0m",
      "\u001b[0;31mUnboundLocalError\u001b[0m                         Traceback (most recent call last)",
      "\u001b[0;32m<ipython-input-54-726087db11e6>\u001b[0m in \u001b[0;36m<module>\u001b[0;34m\u001b[0m\n\u001b[0;32m----> 1\u001b[0;31m \u001b[0mmyfunction1\u001b[0m\u001b[0;34m(\u001b[0m\u001b[0;34m)\u001b[0m\u001b[0;34m\u001b[0m\u001b[0;34m\u001b[0m\u001b[0m\n\u001b[0m",
      "\u001b[0;32m<ipython-input-53-5ab831c2e658>\u001b[0m in \u001b[0;36mmyfunction1\u001b[0;34m()\u001b[0m\n\u001b[1;32m      2\u001b[0m \u001b[0;34m\u001b[0m\u001b[0m\n\u001b[1;32m      3\u001b[0m \u001b[0;32mdef\u001b[0m \u001b[0mmyfunction1\u001b[0m\u001b[0;34m(\u001b[0m\u001b[0;34m)\u001b[0m\u001b[0;34m:\u001b[0m\u001b[0;34m\u001b[0m\u001b[0;34m\u001b[0m\u001b[0m\n\u001b[0;32m----> 4\u001b[0;31m     \u001b[0;32mfor\u001b[0m \u001b[0muser_answers\u001b[0m \u001b[0;32min\u001b[0m \u001b[0;34m(\u001b[0m\u001b[0muser_answers\u001b[0m\u001b[0;34m)\u001b[0m\u001b[0;34m:\u001b[0m\u001b[0;34m\u001b[0m\u001b[0;34m\u001b[0m\u001b[0m\n\u001b[0m\u001b[1;32m      5\u001b[0m         \u001b[0muser_answers\u001b[0m\u001b[0;34m=\u001b[0m\u001b[0minput\u001b[0m\u001b[0;34m(\u001b[0m\u001b[0;34m\"heads or tales?\"\u001b[0m\u001b[0;34m)\u001b[0m\u001b[0;34m\u001b[0m\u001b[0;34m\u001b[0m\u001b[0m\n\u001b[1;32m      6\u001b[0m \u001b[0;34m\u001b[0m\u001b[0m\n",
      "\u001b[0;31mUnboundLocalError\u001b[0m: local variable 'user_answers' referenced before assignment"
     ]
    }
   ],
   "source": [
    "myfunction1()"
   ]
  },
  {
   "cell_type": "code",
   "execution_count": 10,
   "metadata": {},
   "outputs": [
    {
     "name": "stdin",
     "output_type": "stream",
     "text": [
      "Give the tested string:  innostunut sonni\n"
     ]
    },
    {
     "name": "stdout",
     "output_type": "stream",
     "text": [
      "String is not a palindrome.\n"
     ]
    },
    {
     "name": "stdin",
     "output_type": "stream",
     "text": [
      "Test another? (Y/N):  y\n",
      "Give the tested string:  innostunutsonni\n"
     ]
    },
    {
     "name": "stdout",
     "output_type": "stream",
     "text": [
      "Given string, innostunutsonni is a palindrome!\n"
     ]
    },
    {
     "name": "stdin",
     "output_type": "stream",
     "text": [
      "Test another? (Y/N):  n\n",
      "Give the tested string:  innostunutsonni\n"
     ]
    },
    {
     "name": "stdout",
     "output_type": "stream",
     "text": [
      "Given string, innostunutsonni is a palindrome!\n"
     ]
    },
    {
     "name": "stdin",
     "output_type": "stream",
     "text": [
      "Test another? (Y/N):  Y\n",
      "Give the tested string:  NON\n"
     ]
    },
    {
     "name": "stdout",
     "output_type": "stream",
     "text": [
      "Given string, NON is a palindrome!\n"
     ]
    },
    {
     "name": "stdin",
     "output_type": "stream",
     "text": [
      "Test another? (Y/N):  N\n"
     ]
    },
    {
     "name": "stdout",
     "output_type": "stream",
     "text": [
      "Program has been terminated.\n"
     ]
    }
   ],
   "source": [
    "while True:\n",
    "    word = input(\"Give the tested string: \")\n",
    "    if word == word[::-1]:\n",
    "        print(\"Given string,\",word,\"is a palindrome!\")\n",
    "    else:\n",
    "        print(\"String is not a palindrome.\")\n",
    "          \n",
    "\n",
    "    decision = input(\"Test another? (Y/N): \")\n",
    "    if decision == (\"N\" or \"n\"):\n",
    "          print(\"Program has been terminated.\")\n",
    "          break"
   ]
  },
  {
   "cell_type": "code",
   "execution_count": 23,
   "metadata": {},
   "outputs": [
    {
     "name": "stdin",
     "output_type": "stream",
     "text": [
      "give a first number 5\n",
      "give a second number 5\n"
     ]
    },
    {
     "name": "stdout",
     "output_type": "stream",
     "text": [
      "sum is 10\n"
     ]
    }
   ],
   "source": [
    "number1=int(input(\"give a first number\"))\n",
    "number2=int(input(\"give a second number\"))\n",
    "sum=number1+number2\n",
    "if sum > 10:\n",
    "    print(\"sum is bigger than 10\")\n",
    "elif sum < 10:\n",
    "    print(\"sum is less than 10\")\n",
    "else:\n",
    "    print(\"sum is 10\")"
   ]
  },
  {
   "cell_type": "code",
   "execution_count": 32,
   "metadata": {},
   "outputs": [
    {
     "ename": "IndentationError",
     "evalue": "expected an indented block (<ipython-input-32-9e0660d2b6f9>, line 7)",
     "output_type": "error",
     "traceback": [
      "\u001b[0;36m  File \u001b[0;32m\"<ipython-input-32-9e0660d2b6f9>\"\u001b[0;36m, line \u001b[0;32m7\u001b[0m\n\u001b[0;31m    number2=int(input(\"Give a number?\"))\u001b[0m\n\u001b[0m    ^\u001b[0m\n\u001b[0;31mIndentationError\u001b[0m\u001b[0;31m:\u001b[0m expected an indented block\n"
     ]
    }
   ],
   "source": [
    "number=int(input(\"How many numbers do you want to sum?\"))\n",
    "number1=int(input(\"What number do you want to compare the result against?\"))\n",
    "z=int(input(\"How many times do you want to compare?\"))\n",
    "\n",
    "for z in range(z):\n",
    "    num=int(input(\"Give me a number?\"))\n",
    "    if x < y:\n",
    "        print(x, \"is smaller than\", y)\n",
    "    elif x > y:\n",
    "        print(x, \"is bigger than\", y)\n",
    "    elif x == y:\n",
    "        print(\"the sum is even\")\n",
    "    \n",
    "    "
   ]
  },
  {
   "cell_type": "code",
   "execution_count": 33,
   "metadata": {},
   "outputs": [
    {
     "name": "stdout",
     "output_type": "stream",
     "text": [
      "The original list is :[12, 67, 98, 34]\n",
      "List integrer summation:[3, 13, 17, 7]\n"
     ]
    }
   ],
   "source": [
    "test_list = [12, 67, 98, 34]\n",
    "print(\"The original list is :\" +str(test_list))\n",
    "\n",
    "res = [] \n",
    "for ele in test_list: \n",
    "    sum = 0\n",
    "    for digit in str(ele): \n",
    "        sum += int(digit) \n",
    "    res.append(sum)\n",
    "    \n",
    "print(\"List integrer summation:\" + str(res))"
   ]
  },
  {
   "cell_type": "code",
   "execution_count": null,
   "metadata": {},
   "outputs": [],
   "source": [
    "pori=28100\n",
    "int(pori)\n",
    "print(pori)"
   ]
  },
  {
   "cell_type": "code",
   "execution_count": null,
   "metadata": {},
   "outputs": [],
   "source": []
  }
 ],
 "metadata": {
  "kernelspec": {
   "display_name": "Python 3.8.2 64-bit",
   "language": "python",
   "name": "python38264bit0076514f24354075b40e04130ba53c8b"
  },
  "language_info": {
   "codemirror_mode": {
    "name": "ipython",
    "version": 3
   },
   "file_extension": ".py",
   "mimetype": "text/x-python",
   "name": "python",
   "nbconvert_exporter": "python",
   "pygments_lexer": "ipython3",
   "version": "3.8.2"
  }
 },
 "nbformat": 4,
 "nbformat_minor": 4
}
