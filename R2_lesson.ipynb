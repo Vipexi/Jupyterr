{
 "cells": [
  {
   "cell_type": "code",
   "execution_count": 9,
   "metadata": {},
   "outputs": [],
   "source": [
    "from pandas import DataFrame\n",
    "from sklearn import linear_model\n",
    "import numpy as np\n",
    "import matplotlib.pyplot as plt\n",
    "from sklearn.preprocessing import PolynomialFeatures\n",
    "\n",
    "data = {'number_of_observations': [1,4,10,20,35,56,84],\n",
    "                     'month_n': [1,2,3,4,5,6,7]\n",
    "                }\n"
   ]
  },
  {
   "cell_type": "code",
   "execution_count": 10,
   "metadata": {},
   "outputs": [],
   "source": [
    "df = DataFrame(data)"
   ]
  },
  {
   "cell_type": "code",
   "execution_count": 11,
   "metadata": {},
   "outputs": [
    {
     "data": {
      "text/html": [
       "<div>\n",
       "<style scoped>\n",
       "    .dataframe tbody tr th:only-of-type {\n",
       "        vertical-align: middle;\n",
       "    }\n",
       "\n",
       "    .dataframe tbody tr th {\n",
       "        vertical-align: top;\n",
       "    }\n",
       "\n",
       "    .dataframe thead th {\n",
       "        text-align: right;\n",
       "    }\n",
       "</style>\n",
       "<table border=\"1\" class=\"dataframe\">\n",
       "  <thead>\n",
       "    <tr style=\"text-align: right;\">\n",
       "      <th></th>\n",
       "      <th>number_of_observations</th>\n",
       "      <th>month_n</th>\n",
       "    </tr>\n",
       "  </thead>\n",
       "  <tbody>\n",
       "    <tr>\n",
       "      <th>0</th>\n",
       "      <td>1</td>\n",
       "      <td>1</td>\n",
       "    </tr>\n",
       "    <tr>\n",
       "      <th>1</th>\n",
       "      <td>4</td>\n",
       "      <td>2</td>\n",
       "    </tr>\n",
       "    <tr>\n",
       "      <th>2</th>\n",
       "      <td>10</td>\n",
       "      <td>3</td>\n",
       "    </tr>\n",
       "    <tr>\n",
       "      <th>3</th>\n",
       "      <td>20</td>\n",
       "      <td>4</td>\n",
       "    </tr>\n",
       "    <tr>\n",
       "      <th>4</th>\n",
       "      <td>35</td>\n",
       "      <td>5</td>\n",
       "    </tr>\n",
       "  </tbody>\n",
       "</table>\n",
       "</div>"
      ],
      "text/plain": [
       "   number_of_observations  month_n\n",
       "0                       1        1\n",
       "1                       4        2\n",
       "2                      10        3\n",
       "3                      20        4\n",
       "4                      35        5"
      ]
     },
     "execution_count": 11,
     "metadata": {},
     "output_type": "execute_result"
    }
   ],
   "source": [
    "df.head()"
   ]
  },
  {
   "cell_type": "code",
   "execution_count": 12,
   "metadata": {},
   "outputs": [
    {
     "data": {
      "image/png": "[encoded data removed]",
      "text/plain": [
       "<Figure size 432x288 with 1 Axes>"
      ]
     },
     "metadata": {
      "needs_background": "light"
     },
     "output_type": "display_data"
    }
   ],
   "source": [
    "plt.title('number_of_observations Vs month_n', fontsize=14)\n",
    "# Code to dummies compiler: \n",
    "# I previously imported a library called \"matplotlib\" and decided to call it visualisation\n",
    "# I have Googled that it includes a function for setting the title for my visualization\n",
    "# I would like to give two parameters to the function, the title and the fontsize.\n",
    "\n",
    "\n",
    "plt.xlabel('number_of_observations', fontsize=14)\n",
    "# Code to dummies compiler: \n",
    "# I would also like to use a function called xlabel for setting the label for the x-axis. \n",
    "# I would like to give two parameters to the function, the title and the fontsize.\n",
    "\n",
    "\n",
    "plt.ylabel('month_n', fontsize=14)\n",
    "# Code to dummies compiler: \n",
    "# compile it your self\n",
    "\n",
    "\n",
    "plt.grid(True) \n",
    "# Code to dummies compiler: \n",
    "# I would also like to use a function called \"grid\" for setting the grid visible with parameter: \"True\"\n",
    "\n",
    "plt.scatter(df['number_of_observations'], df['month_n'])\n",
    "# Code to dummies compiler: \n",
    "# I would also like to use a function called \"scatter\" to draw the datapoints to the plot.\n",
    "# I would like to give two parameters to the function, the data for the x-axis and the data for the y-axis\n",
    "\n",
    "\n",
    "plt.show()\n",
    "# Code to dummies compiler: \n",
    "# I would also like to use a function called \"show\" to draw the plot to the screen."
   ]
  },
  {
   "cell_type": "code",
   "execution_count": 17,
   "metadata": {},
   "outputs": [
    {
     "data": {
      "image/png": "[encoded data removed]",
      "text/plain": [
       "<Figure size 432x288 with 1 Axes>"
      ]
     },
     "metadata": {
      "needs_background": "light"
     },
     "output_type": "display_data"
    }
   ],
   "source": [
    "plt.title('number_of_observations vs. month_n', fontsize=14)\n",
    "plt.xlabel('number_of_observations', fontsize=14)\n",
    "plt.ylabel('month_n', fontsize=14)\n",
    "plt.grid(True)\n",
    "\n",
    "plt.scatter(df['number_of_observations'], df['month_n'])\n",
    "\n",
    "regression_tool = linear_model.LinearRegression()\n",
    "regression_tool.fit(df[['number_of_observations']], df['month_n'])\n",
    "\n",
    "regression_curve = regression_tool.predict(df[['number_of_observations']])\n",
    "plt.plot(df['number_of_observations'], regression_curve, color='y')\n",
    "\n",
    "plt.show()"
   ]
  },
  {
   "cell_type": "code",
   "execution_count": 28,
   "metadata": {},
   "outputs": [
    {
     "name": "stdout",
     "output_type": "stream",
     "text": [
      "R2 score: 0.8959435626102293\n"
     ]
    }
   ],
   "source": [
    "from sklearn.metrics import r2_score\n",
    "new_species_r2_score=r2_score(regression_curve, df['month_n'])\n",
    "\n",
    "print(\"R2 score:\",new_species_r2_score)"
   ]
  },
  {
   "cell_type": "code",
   "execution_count": 29,
   "metadata": {},
   "outputs": [],
   "source": [
    "def adj_r2(df, r2):\n",
    "    #Adjusted RSquared of the model\n",
    "    \n",
    "    n=len(df) #number of records\n",
    "    p=len(df.columns)-2 #number of features .i.e. columns excluding uniqueId and target variable\n",
    "    return 1-(1-new_species_r2_score)*(n-1)/(n-p-1) # the mathematical formula for calculating adjusted r2."
   ]
  },
  {
   "cell_type": "code",
   "execution_count": 30,
   "metadata": {},
   "outputs": [
    {
     "name": "stdout",
     "output_type": "stream",
     "text": [
      "0.8959435626102293\n"
     ]
    }
   ],
   "source": [
    "adjusted_r2 = adj_r2(df, new_species_r2_score)\n",
    "\n",
    "print(adjusted_r2)"
   ]
  },
  {
   "cell_type": "code",
   "execution_count": null,
   "metadata": {},
   "outputs": [],
   "source": []
  }
 ],
 "metadata": {
  "kernelspec": {
   "display_name": "Python 3.8.2 64-bit",
   "language": "python",
   "name": "python38264bit0076514f24354075b40e04130ba53c8b"
  },
  "language_info": {
   "codemirror_mode": {
    "name": "ipython",
    "version": 3
   },
   "file_extension": ".py",
   "mimetype": "text/x-python",
   "name": "python",
   "nbconvert_exporter": "python",
   "pygments_lexer": "ipython3",
   "version": "3.8.5"
  }
 },
 "nbformat": 4,
 "nbformat_minor": 4
}
