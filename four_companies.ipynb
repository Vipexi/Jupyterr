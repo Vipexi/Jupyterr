{
 "cells": [
  {
   "cell_type": "code",
   "execution_count": 45,
   "metadata": {},
   "outputs": [],
   "source": [
    "import pandas as pd"
   ]
  },
  {
   "cell_type": "code",
   "execution_count": 46,
   "metadata": {},
   "outputs": [
    {
     "data": {
      "text/html": [
       "<div>\n",
       "<style scoped>\n",
       "    .dataframe tbody tr th:only-of-type {\n",
       "        vertical-align: middle;\n",
       "    }\n",
       "\n",
       "    .dataframe tbody tr th {\n",
       "        vertical-align: top;\n",
       "    }\n",
       "\n",
       "    .dataframe thead th {\n",
       "        text-align: right;\n",
       "    }\n",
       "</style>\n",
       "<table border=\"1\" class=\"dataframe\">\n",
       "  <thead>\n",
       "    <tr style=\"text-align: right;\">\n",
       "      <th></th>\n",
       "      <th>Company1_price</th>\n",
       "      <th>Company2_price</th>\n",
       "      <th>Company3_price</th>\n",
       "      <th>Company4_price</th>\n",
       "    </tr>\n",
       "  </thead>\n",
       "  <tbody>\n",
       "    <tr>\n",
       "      <th>0</th>\n",
       "      <td>15.0</td>\n",
       "      <td>0.099763</td>\n",
       "      <td>0.0000</td>\n",
       "      <td>22.549999</td>\n",
       "    </tr>\n",
       "    <tr>\n",
       "      <th>1</th>\n",
       "      <td>19.0</td>\n",
       "      <td>0.119716</td>\n",
       "      <td>5.5000</td>\n",
       "      <td>23.180000</td>\n",
       "    </tr>\n",
       "    <tr>\n",
       "      <th>2</th>\n",
       "      <td>31.5</td>\n",
       "      <td>0.119716</td>\n",
       "      <td>5.5625</td>\n",
       "      <td>22.400000</td>\n",
       "    </tr>\n",
       "    <tr>\n",
       "      <th>3</th>\n",
       "      <td>65.0</td>\n",
       "      <td>0.099763</td>\n",
       "      <td>5.5625</td>\n",
       "      <td>22.160000</td>\n",
       "    </tr>\n",
       "    <tr>\n",
       "      <th>4</th>\n",
       "      <td>80.0</td>\n",
       "      <td>0.099763</td>\n",
       "      <td>5.5625</td>\n",
       "      <td>22.280001</td>\n",
       "    </tr>\n",
       "    <tr>\n",
       "      <th>5</th>\n",
       "      <td>84.0</td>\n",
       "      <td>0.099763</td>\n",
       "      <td>5.5625</td>\n",
       "      <td>22.350000</td>\n",
       "    </tr>\n",
       "    <tr>\n",
       "      <th>6</th>\n",
       "      <td>80.5</td>\n",
       "      <td>0.129692</td>\n",
       "      <td>5.5000</td>\n",
       "      <td>23.040001</td>\n",
       "    </tr>\n",
       "    <tr>\n",
       "      <th>7</th>\n",
       "      <td>81.0</td>\n",
       "      <td>0.129692</td>\n",
       "      <td>5.5000</td>\n",
       "      <td>22.440001</td>\n",
       "    </tr>\n",
       "    <tr>\n",
       "      <th>8</th>\n",
       "      <td>80.0</td>\n",
       "      <td>0.129692</td>\n",
       "      <td>5.5000</td>\n",
       "      <td>22.340000</td>\n",
       "    </tr>\n",
       "    <tr>\n",
       "      <th>9</th>\n",
       "      <td>75.0</td>\n",
       "      <td>0.129692</td>\n",
       "      <td>5.5625</td>\n",
       "      <td>22.090000</td>\n",
       "    </tr>\n",
       "  </tbody>\n",
       "</table>\n",
       "</div>"
      ],
      "text/plain": [
       "   Company1_price  Company2_price  Company3_price  Company4_price\n",
       "0            15.0        0.099763          0.0000       22.549999\n",
       "1            19.0        0.119716          5.5000       23.180000\n",
       "2            31.5        0.119716          5.5625       22.400000\n",
       "3            65.0        0.099763          5.5625       22.160000\n",
       "4            80.0        0.099763          5.5625       22.280001\n",
       "5            84.0        0.099763          5.5625       22.350000\n",
       "6            80.5        0.129692          5.5000       23.040001\n",
       "7            81.0        0.129692          5.5000       22.440001\n",
       "8            80.0        0.129692          5.5000       22.340000\n",
       "9            75.0        0.129692          5.5625       22.090000"
      ]
     },
     "execution_count": 46,
     "metadata": {},
     "output_type": "execute_result"
    }
   ],
   "source": [
    "df = pd.read_csv('Four_companies_volatility.csv')\n",
    "df.head(10)"
   ]
  },
  {
   "cell_type": "code",
   "execution_count": 47,
   "metadata": {},
   "outputs": [],
   "source": [
    "standard_deviation=df.std()"
   ]
  },
  {
   "cell_type": "code",
   "execution_count": 48,
   "metadata": {},
   "outputs": [
    {
     "data": {
      "text/plain": [
       "Company1_price    283.411544\n",
       "Company2_price      0.305562\n",
       "Company3_price      1.409531\n",
       "Company4_price      7.108370\n",
       "dtype: float64"
      ]
     },
     "execution_count": 48,
     "metadata": {},
     "output_type": "execute_result"
    }
   ],
   "source": [
    "df.std()"
   ]
  },
  {
   "cell_type": "code",
   "execution_count": 40,
   "metadata": {},
   "outputs": [],
   "source": [
    "mean=df.mean()"
   ]
  },
  {
   "cell_type": "code",
   "execution_count": 35,
   "metadata": {},
   "outputs": [
    {
     "data": {
      "text/html": [
       "<div>\n",
       "<style scoped>\n",
       "    .dataframe tbody tr th:only-of-type {\n",
       "        vertical-align: middle;\n",
       "    }\n",
       "\n",
       "    .dataframe tbody tr th {\n",
       "        vertical-align: top;\n",
       "    }\n",
       "\n",
       "    .dataframe thead th {\n",
       "        text-align: right;\n",
       "    }\n",
       "</style>\n",
       "<table border=\"1\" class=\"dataframe\">\n",
       "  <thead>\n",
       "    <tr style=\"text-align: right;\">\n",
       "      <th></th>\n",
       "      <th>Company1_price</th>\n",
       "      <th>Company2_price</th>\n",
       "      <th>Company3_price</th>\n",
       "      <th>Company4_price</th>\n",
       "    </tr>\n",
       "  </thead>\n",
       "  <tbody>\n",
       "    <tr>\n",
       "      <th>Company1_price</th>\n",
       "      <td>1.000000</td>\n",
       "      <td>0.246072</td>\n",
       "      <td>0.111083</td>\n",
       "      <td>-0.112634</td>\n",
       "    </tr>\n",
       "    <tr>\n",
       "      <th>Company2_price</th>\n",
       "      <td>0.246072</td>\n",
       "      <td>1.000000</td>\n",
       "      <td>0.028421</td>\n",
       "      <td>0.461951</td>\n",
       "    </tr>\n",
       "    <tr>\n",
       "      <th>Company3_price</th>\n",
       "      <td>0.111083</td>\n",
       "      <td>0.028421</td>\n",
       "      <td>1.000000</td>\n",
       "      <td>0.245284</td>\n",
       "    </tr>\n",
       "    <tr>\n",
       "      <th>Company4_price</th>\n",
       "      <td>-0.112634</td>\n",
       "      <td>0.461951</td>\n",
       "      <td>0.245284</td>\n",
       "      <td>1.000000</td>\n",
       "    </tr>\n",
       "  </tbody>\n",
       "</table>\n",
       "</div>"
      ],
      "text/plain": [
       "                Company1_price  Company2_price  Company3_price  Company4_price\n",
       "Company1_price        1.000000        0.246072        0.111083       -0.112634\n",
       "Company2_price        0.246072        1.000000        0.028421        0.461951\n",
       "Company3_price        0.111083        0.028421        1.000000        0.245284\n",
       "Company4_price       -0.112634        0.461951        0.245284        1.000000"
      ]
     },
     "execution_count": 35,
     "metadata": {},
     "output_type": "execute_result"
    }
   ],
   "source": [
    "df.corr(method='pearson')"
   ]
  },
  {
   "cell_type": "code",
   "execution_count": 36,
   "metadata": {},
   "outputs": [],
   "source": [
    "range_of_companies=df.max() - df.min()"
   ]
  },
  {
   "cell_type": "code",
   "execution_count": 37,
   "metadata": {},
   "outputs": [
    {
     "name": "stdout",
     "output_type": "stream",
     "text": [
      "Company1_price    1186.59000\n",
      "Company2_price       1.52438\n",
      "Company3_price      11.06250\n",
      "Company4_price      29.84000\n",
      "dtype: float64\n"
     ]
    }
   ],
   "source": [
    "print(range_of_companies)"
   ]
  },
  {
   "cell_type": "code",
   "execution_count": null,
   "metadata": {},
   "outputs": [],
   "source": [
    "#['Company1_price'] ['Company1_price']"
   ]
  },
  {
   "cell_type": "code",
   "execution_count": 41,
   "metadata": {},
   "outputs": [
    {
     "name": "stdout",
     "output_type": "stream",
     "text": [
      "Company1_price    1.430383\n",
      "Company2_price    0.402592\n",
      "Company3_price    0.283651\n",
      "Company4_price    0.211512\n",
      "dtype: float64\n"
     ]
    }
   ],
   "source": [
    "print(standard_deviation/mean)"
   ]
  },
  {
   "cell_type": "code",
   "execution_count": 42,
   "metadata": {},
   "outputs": [],
   "source": [
    "df_daily = pd.read_csv('Four_companies_daily_volatility.csv')"
   ]
  },
  {
   "cell_type": "code",
   "execution_count": 43,
   "metadata": {},
   "outputs": [
    {
     "data": {
      "text/html": [
       "<div>\n",
       "<style scoped>\n",
       "    .dataframe tbody tr th:only-of-type {\n",
       "        vertical-align: middle;\n",
       "    }\n",
       "\n",
       "    .dataframe tbody tr th {\n",
       "        vertical-align: top;\n",
       "    }\n",
       "\n",
       "    .dataframe thead th {\n",
       "        text-align: right;\n",
       "    }\n",
       "</style>\n",
       "<table border=\"1\" class=\"dataframe\">\n",
       "  <thead>\n",
       "    <tr style=\"text-align: right;\">\n",
       "      <th></th>\n",
       "      <th>Company1_price_high</th>\n",
       "      <th>Company1_price_low</th>\n",
       "      <th>Company2_price_high</th>\n",
       "      <th>Company2_price_low</th>\n",
       "      <th>Company3_price_high</th>\n",
       "      <th>Company3_price_low</th>\n",
       "      <th>Company4_price_high</th>\n",
       "      <th>Company4_price_low</th>\n",
       "    </tr>\n",
       "  </thead>\n",
       "  <tbody>\n",
       "    <tr>\n",
       "      <th>0</th>\n",
       "      <td>15.000000</td>\n",
       "      <td>15.0</td>\n",
       "      <td>0.099763</td>\n",
       "      <td>0.099763</td>\n",
       "      <td>5.5000</td>\n",
       "      <td>5.4375</td>\n",
       "      <td>23.469999</td>\n",
       "      <td>22.160000</td>\n",
       "    </tr>\n",
       "    <tr>\n",
       "      <th>1</th>\n",
       "      <td>30.000000</td>\n",
       "      <td>19.0</td>\n",
       "      <td>0.129692</td>\n",
       "      <td>0.099763</td>\n",
       "      <td>5.5625</td>\n",
       "      <td>5.4375</td>\n",
       "      <td>23.200001</td>\n",
       "      <td>22.520000</td>\n",
       "    </tr>\n",
       "    <tr>\n",
       "      <th>2</th>\n",
       "      <td>65.000000</td>\n",
       "      <td>31.5</td>\n",
       "      <td>0.119716</td>\n",
       "      <td>0.119716</td>\n",
       "      <td>5.5625</td>\n",
       "      <td>5.5000</td>\n",
       "      <td>22.620001</td>\n",
       "      <td>21.969999</td>\n",
       "    </tr>\n",
       "    <tr>\n",
       "      <th>3</th>\n",
       "      <td>89.000000</td>\n",
       "      <td>65.0</td>\n",
       "      <td>0.099763</td>\n",
       "      <td>0.089787</td>\n",
       "      <td>5.5625</td>\n",
       "      <td>5.5000</td>\n",
       "      <td>22.570000</td>\n",
       "      <td>22.160000</td>\n",
       "    </tr>\n",
       "    <tr>\n",
       "      <th>4</th>\n",
       "      <td>84.000000</td>\n",
       "      <td>78.0</td>\n",
       "      <td>0.119716</td>\n",
       "      <td>0.099763</td>\n",
       "      <td>5.5625</td>\n",
       "      <td>5.5000</td>\n",
       "      <td>23.000000</td>\n",
       "      <td>22.280001</td>\n",
       "    </tr>\n",
       "    <tr>\n",
       "      <th>5</th>\n",
       "      <td>84.000000</td>\n",
       "      <td>80.0</td>\n",
       "      <td>0.099763</td>\n",
       "      <td>0.099763</td>\n",
       "      <td>5.5625</td>\n",
       "      <td>5.5000</td>\n",
       "      <td>22.922001</td>\n",
       "      <td>22.049999</td>\n",
       "    </tr>\n",
       "    <tr>\n",
       "      <th>6</th>\n",
       "      <td>81.500000</td>\n",
       "      <td>75.0</td>\n",
       "      <td>0.139668</td>\n",
       "      <td>0.129692</td>\n",
       "      <td>5.5625</td>\n",
       "      <td>5.5000</td>\n",
       "      <td>23.040001</td>\n",
       "      <td>22.020000</td>\n",
       "    </tr>\n",
       "    <tr>\n",
       "      <th>7</th>\n",
       "      <td>93.500000</td>\n",
       "      <td>80.0</td>\n",
       "      <td>0.129692</td>\n",
       "      <td>0.129692</td>\n",
       "      <td>5.5625</td>\n",
       "      <td>5.5000</td>\n",
       "      <td>22.549999</td>\n",
       "      <td>22.200001</td>\n",
       "    </tr>\n",
       "    <tr>\n",
       "      <th>8</th>\n",
       "      <td>90.000000</td>\n",
       "      <td>77.0</td>\n",
       "      <td>0.129692</td>\n",
       "      <td>0.129692</td>\n",
       "      <td>5.5625</td>\n",
       "      <td>5.5000</td>\n",
       "      <td>22.400000</td>\n",
       "      <td>22.090000</td>\n",
       "    </tr>\n",
       "    <tr>\n",
       "      <th>9</th>\n",
       "      <td>75.019997</td>\n",
       "      <td>55.0</td>\n",
       "      <td>0.129692</td>\n",
       "      <td>0.129692</td>\n",
       "      <td>5.6875</td>\n",
       "      <td>5.5625</td>\n",
       "      <td>22.420000</td>\n",
       "      <td>22.049999</td>\n",
       "    </tr>\n",
       "  </tbody>\n",
       "</table>\n",
       "</div>"
      ],
      "text/plain": [
       "   Company1_price_high  Company1_price_low  Company2_price_high  \\\n",
       "0            15.000000                15.0             0.099763   \n",
       "1            30.000000                19.0             0.129692   \n",
       "2            65.000000                31.5             0.119716   \n",
       "3            89.000000                65.0             0.099763   \n",
       "4            84.000000                78.0             0.119716   \n",
       "5            84.000000                80.0             0.099763   \n",
       "6            81.500000                75.0             0.139668   \n",
       "7            93.500000                80.0             0.129692   \n",
       "8            90.000000                77.0             0.129692   \n",
       "9            75.019997                55.0             0.129692   \n",
       "\n",
       "   Company2_price_low  Company3_price_high  Company3_price_low  \\\n",
       "0            0.099763               5.5000              5.4375   \n",
       "1            0.099763               5.5625              5.4375   \n",
       "2            0.119716               5.5625              5.5000   \n",
       "3            0.089787               5.5625              5.5000   \n",
       "4            0.099763               5.5625              5.5000   \n",
       "5            0.099763               5.5625              5.5000   \n",
       "6            0.129692               5.5625              5.5000   \n",
       "7            0.129692               5.5625              5.5000   \n",
       "8            0.129692               5.5625              5.5000   \n",
       "9            0.129692               5.6875              5.5625   \n",
       "\n",
       "   Company4_price_high  Company4_price_low  \n",
       "0            23.469999           22.160000  \n",
       "1            23.200001           22.520000  \n",
       "2            22.620001           21.969999  \n",
       "3            22.570000           22.160000  \n",
       "4            23.000000           22.280001  \n",
       "5            22.922001           22.049999  \n",
       "6            23.040001           22.020000  \n",
       "7            22.549999           22.200001  \n",
       "8            22.400000           22.090000  \n",
       "9            22.420000           22.049999  "
      ]
     },
     "execution_count": 43,
     "metadata": {},
     "output_type": "execute_result"
    }
   ],
   "source": [
    "df_daily.head(10)"
   ]
  },
  {
   "cell_type": "code",
   "execution_count": 50,
   "metadata": {},
   "outputs": [
    {
     "data": {
      "text/plain": [
       "1209.0"
      ]
     },
     "execution_count": 50,
     "metadata": {},
     "output_type": "execute_result"
    }
   ],
   "source": [
    "df_daily['Company1_price_high'].max()"
   ]
  },
  {
   "cell_type": "code",
   "execution_count": 57,
   "metadata": {},
   "outputs": [
    {
     "name": "stdout",
     "output_type": "stream",
     "text": [
      "1.4303832538367989\n"
     ]
    }
   ],
   "source": [
    "standard_deviation_company1=df['Company1_price'].std()\n",
    "mean_company1=df['Company1_price'].mean()\n",
    "\n",
    "\n",
    "def coefficient_variation(standard_deviation, mean):\n",
    "    return standard_deviation / mean\n",
    "\n",
    "result=coefficient_variation(standard_deviation_comp1, mean_comp1)\n",
    "\n",
    "print(result)\n"
   ]
  },
  {
   "cell_type": "code",
   "execution_count": null,
   "metadata": {},
   "outputs": [],
   "source": []
  }
 ],
 "metadata": {
  "kernelspec": {
   "display_name": "Python 3.8.2 64-bit",
   "language": "python",
   "name": "python38264bit0076514f24354075b40e04130ba53c8b"
  },
  "language_info": {
   "codemirror_mode": {
    "name": "ipython",
    "version": 3
   },
   "file_extension": ".py",
   "mimetype": "text/x-python",
   "name": "python",
   "nbconvert_exporter": "python",
   "pygments_lexer": "ipython3",
   "version": "3.8.10"
  }
 },
 "nbformat": 4,
 "nbformat_minor": 4
}
