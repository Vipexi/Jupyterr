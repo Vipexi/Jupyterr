{
 "cells": [
  {
   "cell_type": "code",
   "execution_count": 40,
   "metadata": {},
   "outputs": [],
   "source": [
    "from pandas import DataFrame \n",
    "# Koodi-Suomi : \n",
    "# haluaisin tilata käyttööni \"pandas\" nimisestä koodikirjastosta aihion nimeltään \"DataFrame\" ja samalla sen työstämiseen tarvittavat työkalut-. "
   ]
  },
  {
   "cell_type": "code",
   "execution_count": 41,
   "metadata": {},
   "outputs": [],
   "source": [
    "from sklearn import linear_model\n",
    "# Code to dummies compiler: \n",
    "# I would like to use a toolkit called \"linear moded\" that can be found from library called \"sklearn\""
   ]
  },
  {
   "cell_type": "code",
   "execution_count": 42,
   "metadata": {},
   "outputs": [],
   "source": [
    "import matplotlib.pyplot as visualisation\n",
    "# Code to dummies compiler: \n",
    "# I would like to use a toolkit called \"pyplot\" that can be found from library called \"matplotlib\"\n",
    "# From now on I would like to call tihs toolkit simply with name \"visualization\""
   ]
  },
  {
   "cell_type": "code",
   "execution_count": 43,
   "metadata": {},
   "outputs": [],
   "source": [
    "import numpy as np\n",
    "# Code to dummies compiler: \n",
    "# I would like to use a library called \"numpy\"\n",
    "# From now on I would like to call this toolkit simply with name \"np\"."
   ]
  },
  {
   "cell_type": "code",
   "execution_count": 44,
   "metadata": {},
   "outputs": [],
   "source": [
    "# DATA : TO MAKE THINGS SIMPLE, WE HAVE NOW WRITTEN THE DATA TO THE CODE\n",
    "  \n",
    "data = {'ice_cream_sales': [5.4, 5.75, 6.6, 4.75, 8, 8.45, 7.9, 5.3, 6, 7.25, 6.3, 7.1, 8.8, 8, 5.9, 8.2, 8.95, 8.4, 9.9, 9.3, 10.6, 6.8, 6.75, 6.35, 7.4, 9.1, 9.95, 10.1, 7.75, 7.85, 7.9, 6.85, 8.3, 8.85, 8.55, 7.95, 7.8, 8.8, 8.35, 10.6, 10.8, 9.9, 8, 6.25, 8.95, 9.05, 9.5, 8.45, 9.05, 5.4, 5.85, 5.1, 8.25, 10.25, 10.35, 8.65],\n",
    "        'day_temperature': [18, 16, 19, 15, 19, 20, 19, 17, 20, 21, 17, 17, 21, 20, 18, 25, 27, 26, 26, 24, 28, 22, 21, 21, 22, 19, 23, 24, 22, 25, 22, 19, 19, 18, 19, 22, 24, 26, 27, 27, 25, 26, 22, 20, 25, 28, 23, 19, 20, 18, 18, 17, 23, 25, 23,22 ]\n",
    "        }\n",
    "# Code to dummies compiler: \n",
    "# I would like to create a new variable(envelope) called \"data\" and store these two columns inside.\n",
    "# The first column I would like to call \"ice_cream_sales\" and the second column I would like to call \"day_temperature\"\n",
    "\n",
    "\n",
    "df = DataFrame(data) \n",
    "# Code to dummies compiler: \n",
    "# I recently imported a library called Pandas which includes a data-structure(like Excel sheet) called DataFrame.\n",
    "# I would like to get a new DataFrame and store it to a new variable(envelope) that I want to call data_frame.\n",
    "# I would now like to load my \"data\" to the DataFrame"
   ]
  },
  {
   "cell_type": "code",
   "execution_count": 45,
   "metadata": {},
   "outputs": [
    {
     "data": {
      "text/html": [
       "<div>\n",
       "<style scoped>\n",
       "    .dataframe tbody tr th:only-of-type {\n",
       "        vertical-align: middle;\n",
       "    }\n",
       "\n",
       "    .dataframe tbody tr th {\n",
       "        vertical-align: top;\n",
       "    }\n",
       "\n",
       "    .dataframe thead th {\n",
       "        text-align: right;\n",
       "    }\n",
       "</style>\n",
       "<table border=\"1\" class=\"dataframe\">\n",
       "  <thead>\n",
       "    <tr style=\"text-align: right;\">\n",
       "      <th></th>\n",
       "      <th>ice_cream_sales</th>\n",
       "      <th>day_temperature</th>\n",
       "    </tr>\n",
       "  </thead>\n",
       "  <tbody>\n",
       "    <tr>\n",
       "      <th>0</th>\n",
       "      <td>5.40</td>\n",
       "      <td>18</td>\n",
       "    </tr>\n",
       "    <tr>\n",
       "      <th>1</th>\n",
       "      <td>5.75</td>\n",
       "      <td>16</td>\n",
       "    </tr>\n",
       "    <tr>\n",
       "      <th>2</th>\n",
       "      <td>6.60</td>\n",
       "      <td>19</td>\n",
       "    </tr>\n",
       "    <tr>\n",
       "      <th>3</th>\n",
       "      <td>4.75</td>\n",
       "      <td>15</td>\n",
       "    </tr>\n",
       "    <tr>\n",
       "      <th>4</th>\n",
       "      <td>8.00</td>\n",
       "      <td>19</td>\n",
       "    </tr>\n",
       "    <tr>\n",
       "      <th>5</th>\n",
       "      <td>8.45</td>\n",
       "      <td>20</td>\n",
       "    </tr>\n",
       "    <tr>\n",
       "      <th>6</th>\n",
       "      <td>7.90</td>\n",
       "      <td>19</td>\n",
       "    </tr>\n",
       "    <tr>\n",
       "      <th>7</th>\n",
       "      <td>5.30</td>\n",
       "      <td>17</td>\n",
       "    </tr>\n",
       "    <tr>\n",
       "      <th>8</th>\n",
       "      <td>6.00</td>\n",
       "      <td>20</td>\n",
       "    </tr>\n",
       "    <tr>\n",
       "      <th>9</th>\n",
       "      <td>7.25</td>\n",
       "      <td>21</td>\n",
       "    </tr>\n",
       "    <tr>\n",
       "      <th>10</th>\n",
       "      <td>6.30</td>\n",
       "      <td>17</td>\n",
       "    </tr>\n",
       "    <tr>\n",
       "      <th>11</th>\n",
       "      <td>7.10</td>\n",
       "      <td>17</td>\n",
       "    </tr>\n",
       "    <tr>\n",
       "      <th>12</th>\n",
       "      <td>8.80</td>\n",
       "      <td>21</td>\n",
       "    </tr>\n",
       "    <tr>\n",
       "      <th>13</th>\n",
       "      <td>8.00</td>\n",
       "      <td>20</td>\n",
       "    </tr>\n",
       "    <tr>\n",
       "      <th>14</th>\n",
       "      <td>5.90</td>\n",
       "      <td>18</td>\n",
       "    </tr>\n",
       "    <tr>\n",
       "      <th>15</th>\n",
       "      <td>8.20</td>\n",
       "      <td>25</td>\n",
       "    </tr>\n",
       "    <tr>\n",
       "      <th>16</th>\n",
       "      <td>8.95</td>\n",
       "      <td>27</td>\n",
       "    </tr>\n",
       "    <tr>\n",
       "      <th>17</th>\n",
       "      <td>8.40</td>\n",
       "      <td>26</td>\n",
       "    </tr>\n",
       "    <tr>\n",
       "      <th>18</th>\n",
       "      <td>9.90</td>\n",
       "      <td>26</td>\n",
       "    </tr>\n",
       "    <tr>\n",
       "      <th>19</th>\n",
       "      <td>9.30</td>\n",
       "      <td>24</td>\n",
       "    </tr>\n",
       "    <tr>\n",
       "      <th>20</th>\n",
       "      <td>10.60</td>\n",
       "      <td>28</td>\n",
       "    </tr>\n",
       "    <tr>\n",
       "      <th>21</th>\n",
       "      <td>6.80</td>\n",
       "      <td>22</td>\n",
       "    </tr>\n",
       "    <tr>\n",
       "      <th>22</th>\n",
       "      <td>6.75</td>\n",
       "      <td>21</td>\n",
       "    </tr>\n",
       "    <tr>\n",
       "      <th>23</th>\n",
       "      <td>6.35</td>\n",
       "      <td>21</td>\n",
       "    </tr>\n",
       "    <tr>\n",
       "      <th>24</th>\n",
       "      <td>7.40</td>\n",
       "      <td>22</td>\n",
       "    </tr>\n",
       "    <tr>\n",
       "      <th>25</th>\n",
       "      <td>9.10</td>\n",
       "      <td>19</td>\n",
       "    </tr>\n",
       "    <tr>\n",
       "      <th>26</th>\n",
       "      <td>9.95</td>\n",
       "      <td>23</td>\n",
       "    </tr>\n",
       "    <tr>\n",
       "      <th>27</th>\n",
       "      <td>10.10</td>\n",
       "      <td>24</td>\n",
       "    </tr>\n",
       "    <tr>\n",
       "      <th>28</th>\n",
       "      <td>7.75</td>\n",
       "      <td>22</td>\n",
       "    </tr>\n",
       "    <tr>\n",
       "      <th>29</th>\n",
       "      <td>7.85</td>\n",
       "      <td>25</td>\n",
       "    </tr>\n",
       "  </tbody>\n",
       "</table>\n",
       "</div>"
      ],
      "text/plain": [
       "    ice_cream_sales  day_temperature\n",
       "0              5.40               18\n",
       "1              5.75               16\n",
       "2              6.60               19\n",
       "3              4.75               15\n",
       "4              8.00               19\n",
       "5              8.45               20\n",
       "6              7.90               19\n",
       "7              5.30               17\n",
       "8              6.00               20\n",
       "9              7.25               21\n",
       "10             6.30               17\n",
       "11             7.10               17\n",
       "12             8.80               21\n",
       "13             8.00               20\n",
       "14             5.90               18\n",
       "15             8.20               25\n",
       "16             8.95               27\n",
       "17             8.40               26\n",
       "18             9.90               26\n",
       "19             9.30               24\n",
       "20            10.60               28\n",
       "21             6.80               22\n",
       "22             6.75               21\n",
       "23             6.35               21\n",
       "24             7.40               22\n",
       "25             9.10               19\n",
       "26             9.95               23\n",
       "27            10.10               24\n",
       "28             7.75               22\n",
       "29             7.85               25"
      ]
     },
     "execution_count": 45,
     "metadata": {},
     "output_type": "execute_result"
    }
   ],
   "source": [
    "df.head(30)"
   ]
  },
  {
   "cell_type": "code",
   "execution_count": 46,
   "metadata": {},
   "outputs": [
    {
     "data": {
      "image/png": "[encoded data removed]",
      "text/plain": [
       "<Figure size 432x288 with 1 Axes>"
      ]
     },
     "metadata": {
      "needs_background": "light"
     },
     "output_type": "display_data"
    }
   ],
   "source": [
    "visualisation.title('ice_cream_sales Vs day_temperature', fontsize=14)\n",
    "# Code to dummies compiler: \n",
    "# I previously imported a library called \"matplotlib\" and decided to call it visualisation\n",
    "# I have Googled that it includes a function for setting the title for my visualization\n",
    "# I would like to give two parameters to the function, the title and the fontsize.\n",
    "\n",
    "\n",
    "visualisation.xlabel('day_temperature', fontsize=14)\n",
    "# Code to dummies compiler: \n",
    "# I would also like to use a function called xlabel for setting the label for the x-axis. \n",
    "# I would like to give two parameters to the function, the title and the fontsize.\n",
    "\n",
    "\n",
    "visualisation.ylabel('ice_cream_sales', fontsize=14)\n",
    "# Code to dummies compiler: \n",
    "# compile it your self\n",
    "\n",
    "\n",
    "visualisation.grid(True) \n",
    "# Code to dummies compiler: \n",
    "# I would also like to use a function called \"grid\" for setting the grid visible with parameter: \"True\"\n",
    "\n",
    "visualisation.scatter(df['day_temperature'], df['ice_cream_sales'])\n",
    "# Code to dummies compiler: \n",
    "# I would also like to use a function called \"scatter\" to draw the datapoints to the plot.\n",
    "# I would like to give two parameters to the function, the data for the x-axis and the data for the y-axis\n",
    "\n",
    "\n",
    "visualisation.show()\n",
    "# Code to dummies compiler: \n",
    "# I would also like to use a function called \"show\" to draw the plot to the screen."
   ]
  },
  {
   "cell_type": "code",
   "execution_count": 47,
   "metadata": {},
   "outputs": [
    {
     "data": {
      "text/plain": [
       "LinearRegression()"
      ]
     },
     "execution_count": 47,
     "metadata": {},
     "output_type": "execute_result"
    }
   ],
   "source": [
    "regression_tool = linear_model.LinearRegression()\n",
    "# Code to dummies compiler: \n",
    "# I would also like to get a new LinearRegression-tool that can be found inside the linear-model toolkit \n",
    "# I would like to store it into a variable called \"regression_tool\"\n",
    "\n",
    "\n",
    "regression_tool.fit(df[['day_temperature']], df['ice_cream_sales'])\n",
    "# Code to dummies compiler: \n",
    "# I would also like to use a function called \"fit\" to train my regression_tool with the ice-cream data  \n",
    "# I would like to give two parameters to the function, input dimension and the target dimension"
   ]
  },
  {
   "cell_type": "code",
   "execution_count": 48,
   "metadata": {},
   "outputs": [
    {
     "name": "stdout",
     "output_type": "stream",
     "text": [
      "minimum_sale: \n",
      " 0.6636730719665511\n",
      "Coefficients: \n",
      " [0.3386967]\n"
     ]
    }
   ],
   "source": [
    "print('minimum_sale: \\n', regression_tool.intercept_)\n",
    "# Code to dummies compiler: \n",
    "# I would like to print text \"minimum_sale\" and to the next line the coefficient...\n",
    "#... representing the minimum_value called \"intercept_\". \n",
    "\n",
    "\n",
    "\n",
    "\n",
    "print('Coefficients: \\n', regression_tool.coef_)\n",
    "# Code to dummies compiler: \n",
    "# I would like to print text \"Coefficients\" and to the next line the coefficient...\n",
    "#... representing the X in my formula"
   ]
  },
  {
   "cell_type": "code",
   "execution_count": 49,
   "metadata": {},
   "outputs": [
    {
     "data": {
      "image/png": "[encoded data removed]",
      "text/plain": [
       "<Figure size 432x288 with 1 Axes>"
      ]
     },
     "metadata": {
      "needs_background": "light"
     },
     "output_type": "display_data"
    }
   ],
   "source": [
    "regression_curve = regression_tool.predict(df[['day_temperature']])\n",
    "# Code to dummies compiler: \n",
    "# By using the trained model, I would like to use function called \"predict\" to predict the sales through all the rows in my data.\n",
    "# I would like to give one parameter to the function, the input dimension\n",
    "\n",
    "\n",
    "visualisation.plot(df['day_temperature'], regression_curve, color='y')\n",
    "# Code to dummies compiler: \n",
    "# I would like to use function \"plot\" to draw the curve to the sceen.\n",
    "# I would like to give three parameters to the function, the data for the x-axis and the data for the y-axis and the colour\n",
    "\n",
    "\n",
    "# voisitko käyttää sen työkalua nimeltään plot joka piirtää kuvaajaan pisteitä antamieni parametrien mukaan.\n",
    "# plot-koodipätkä vaatii parametreikseen :\n",
    "#      1. Piirrettävien pisteien X-koordinaatit (Paivan keskilampotila)\n",
    "#      2. Piirrettävien pisteien y-koordinaatit (regressioviiva, eli regressioyhtälöllä lasketut y-arvot)\n",
    "\n",
    "visualisation.show()\n",
    "# importtasin aiemmin matplotlib nimisen ohjelmointikirjaston kirjekuoreen nimeltään \"kuvaaja\"\n",
    "# voisitko käyttää sen työkalua nimeltään show, joka piirtää kuvaajan näytölle"
   ]
  },
  {
   "cell_type": "code",
   "execution_count": 50,
   "metadata": {},
   "outputs": [
    {
     "data": {
      "image/png": "[encoded data removed]",
      "text/plain": [
       "<Figure size 432x288 with 1 Axes>"
      ]
     },
     "metadata": {
      "needs_background": "light"
     },
     "output_type": "display_data"
    }
   ],
   "source": [
    "visualisation.title('day_temperature vs. ice_cream_sales', fontsize=14)\n",
    "visualisation.xlabel('day_temperature', fontsize=14)\n",
    "visualisation.ylabel('ice_cream_sales', fontsize=14)\n",
    "visualisation.grid(True) \n",
    "\n",
    "visualisation.scatter(df['day_temperature'], df['ice_cream_sales'])\n",
    "\n",
    "regression_tool = linear_model.LinearRegression()\n",
    "regression_tool.fit(df[['day_temperature']], df['ice_cream_sales'])\n",
    "\n",
    "regression_curve = regression_tool.predict(df[['day_temperature']])\n",
    "visualisation.plot(df['day_temperature'], regression_curve, color='y')\n",
    "\n",
    "visualisation.show()"
   ]
  },
  {
   "cell_type": "code",
   "execution_count": 52,
   "metadata": {},
   "outputs": [
    {
     "name": "stdout",
     "output_type": "stream",
     "text": [
      "R2 score: 0.11508967150040339\n"
     ]
    }
   ],
   "source": [
    "from sklearn.metrics import r2_score\n",
    "icecream_r2_score=r2_score(regression_curve, df[['ice_cream_sales']])\n",
    "\n",
    "print(\"R2 score:\",icecream_r2_score) "
   ]
  },
  {
   "cell_type": "code",
   "execution_count": 54,
   "metadata": {},
   "outputs": [
    {
     "name": "stdout",
     "output_type": "stream",
     "text": [
      "R2 score: -147.8980922986179\n"
     ]
    }
   ],
   "source": [
    "from sklearn.metrics import r2_score\n",
    "icecream_r2_score=r2_score(regression_curve, df['day_temperature'])\n",
    "\n",
    "print(\"R2 score:\",icecream_r2_score) "
   ]
  },
  {
   "cell_type": "code",
   "execution_count": 34,
   "metadata": {},
   "outputs": [
    {
     "data": {
      "text/plain": [
       "array([6.76021364, 7.43760703, 6.08282024])"
      ]
     },
     "execution_count": 34,
     "metadata": {},
     "output_type": "execute_result"
    }
   ],
   "source": [
    "regression_tool.predict(np.array([[18],[20],[16]]))\n",
    "# Code to dummies compiler: \n",
    "# I would like to predict ice cream sales for different day_temperatures by using function called \"predict\"\n",
    "# I would like to give one parameter to the function, a 2 dimensional array with the day_temperatures"
   ]
  },
  {
   "cell_type": "code",
   "execution_count": 13,
   "metadata": {},
   "outputs": [],
   "source": [
    "data = {'trip_length': [6,5,2,7,9,3,4,6,2,8,5,2,6,3,9,8,9,5,6],\n",
    "        'trip_price': [17.65,15.90,11.40, 22.40, 28.15, 14.65, 14.15, 17.65, 12.15, 23.40, 18.15, 11.40, 18.40, 12.40, 23.65, 24.90, 25.90, 18.15, 19.15]\n",
    "                }\n",
    "df = DataFrame(data) # making the dataframe"
   ]
  },
  {
   "cell_type": "code",
   "execution_count": 14,
   "metadata": {},
   "outputs": [
    {
     "data": {
      "text/html": [
       "<div>\n",
       "<style scoped>\n",
       "    .dataframe tbody tr th:only-of-type {\n",
       "        vertical-align: middle;\n",
       "    }\n",
       "\n",
       "    .dataframe tbody tr th {\n",
       "        vertical-align: top;\n",
       "    }\n",
       "\n",
       "    .dataframe thead th {\n",
       "        text-align: right;\n",
       "    }\n",
       "</style>\n",
       "<table border=\"1\" class=\"dataframe\">\n",
       "  <thead>\n",
       "    <tr style=\"text-align: right;\">\n",
       "      <th></th>\n",
       "      <th>trip_length</th>\n",
       "      <th>trip_price</th>\n",
       "    </tr>\n",
       "  </thead>\n",
       "  <tbody>\n",
       "    <tr>\n",
       "      <th>0</th>\n",
       "      <td>6</td>\n",
       "      <td>17.65</td>\n",
       "    </tr>\n",
       "    <tr>\n",
       "      <th>1</th>\n",
       "      <td>5</td>\n",
       "      <td>15.90</td>\n",
       "    </tr>\n",
       "    <tr>\n",
       "      <th>2</th>\n",
       "      <td>2</td>\n",
       "      <td>11.40</td>\n",
       "    </tr>\n",
       "    <tr>\n",
       "      <th>3</th>\n",
       "      <td>7</td>\n",
       "      <td>22.40</td>\n",
       "    </tr>\n",
       "    <tr>\n",
       "      <th>4</th>\n",
       "      <td>9</td>\n",
       "      <td>28.15</td>\n",
       "    </tr>\n",
       "    <tr>\n",
       "      <th>5</th>\n",
       "      <td>3</td>\n",
       "      <td>14.65</td>\n",
       "    </tr>\n",
       "    <tr>\n",
       "      <th>6</th>\n",
       "      <td>4</td>\n",
       "      <td>14.15</td>\n",
       "    </tr>\n",
       "    <tr>\n",
       "      <th>7</th>\n",
       "      <td>6</td>\n",
       "      <td>17.65</td>\n",
       "    </tr>\n",
       "    <tr>\n",
       "      <th>8</th>\n",
       "      <td>2</td>\n",
       "      <td>12.15</td>\n",
       "    </tr>\n",
       "    <tr>\n",
       "      <th>9</th>\n",
       "      <td>8</td>\n",
       "      <td>23.40</td>\n",
       "    </tr>\n",
       "  </tbody>\n",
       "</table>\n",
       "</div>"
      ],
      "text/plain": [
       "   trip_length  trip_price\n",
       "0            6       17.65\n",
       "1            5       15.90\n",
       "2            2       11.40\n",
       "3            7       22.40\n",
       "4            9       28.15\n",
       "5            3       14.65\n",
       "6            4       14.15\n",
       "7            6       17.65\n",
       "8            2       12.15\n",
       "9            8       23.40"
      ]
     },
     "execution_count": 14,
     "metadata": {},
     "output_type": "execute_result"
    }
   ],
   "source": [
    "df.head(10) #showing the dataframe"
   ]
  },
  {
   "cell_type": "code",
   "execution_count": 15,
   "metadata": {},
   "outputs": [
    {
     "data": {
      "image/png": "[encoded data removed]",
      "text/plain": [
       "<Figure size 432x288 with 1 Axes>"
      ]
     },
     "metadata": {
      "needs_background": "light"
     },
     "output_type": "display_data"
    }
   ],
   "source": [
    "visualisation.title('trip_length Vs trip_price', fontsize=14) #import matplotlib.pyplot as visualisation title is the text on the map.\n",
    "visualisation.grid(True) #makes the squares appear on the map\n",
    "visualisation.scatter(df['trip_length'], df['trip_price']) # scatters all the data from the two columns along the maps. scatter() and which columns to scatter ([])\n",
    "visualisation.show() "
   ]
  },
  {
   "cell_type": "code",
   "execution_count": 16,
   "metadata": {},
   "outputs": [
    {
     "name": "stdout",
     "output_type": "stream",
     "text": [
      "trip_price \n",
      " 6.989824120603007\n",
      "Coefficients: \n",
      " [2.06469849]\n"
     ]
    }
   ],
   "source": [
    "regression_tool = linear_model.LinearRegression() #from sklearn import linear_model and the function LinearRegression() store it inside a variable\n",
    "regression_tool.fit(df[['trip_length']], df['trip_price']) #fit\n",
    "print('trip_price \\n', regression_tool.intercept_) \n",
    "print('Coefficients: \\n', regression_tool.coef_)\n"
   ]
  },
  {
   "cell_type": "code",
   "execution_count": 17,
   "metadata": {},
   "outputs": [
    {
     "data": {
      "image/png": "[encoded data removed]",
      "text/plain": [
       "<Figure size 432x288 with 1 Axes>"
      ]
     },
     "metadata": {
      "needs_background": "light"
     },
     "output_type": "display_data"
    }
   ],
   "source": [
    "regression_curve = regression_tool.predict(df[['trip_price']])\n",
    "visualisation.plot(df['trip_price'], regression_curve, color='y')\n",
    "visualisation.show()"
   ]
  },
  {
   "cell_type": "code",
   "execution_count": 18,
   "metadata": {},
   "outputs": [
    {
     "data": {
      "image/png": "[encoded data removed]",
      "text/plain": [
       "<Figure size 432x288 with 1 Axes>"
      ]
     },
     "metadata": {
      "needs_background": "light"
     },
     "output_type": "display_data"
    }
   ],
   "source": [
    "visualisation.title('trip_price vs. trip_length', fontsize=14)\n",
    "visualisation.xlabel('trip_price', fontsize=14)\n",
    "visualisation.ylabel('trip_length', fontsize=14)\n",
    "visualisation.grid(True) \n",
    "\n",
    "visualisation.scatter(df['trip_price'], df['trip_length'])\n",
    "\n",
    "regression_tool = linear_model.LinearRegression()\n",
    "regression_tool.fit(df[['trip_price']], df['trip_length'])\n",
    "\n",
    "regression_curve = regression_tool.predict(df[['trip_price']])\n",
    "visualisation.plot(df['trip_price'], regression_curve, color='y')\n",
    "\n",
    "visualisation.show()"
   ]
  },
  {
   "cell_type": "code",
   "execution_count": 19,
   "metadata": {},
   "outputs": [
    {
     "data": {
      "text/plain": [
       "array([ 1.705122  ,  3.97964211, -1.02430214])"
      ]
     },
     "execution_count": 19,
     "metadata": {},
     "output_type": "execute_result"
    }
   ],
   "source": [
    "regression_tool.predict(np.array([[10],[15],[4]]))"
   ]
  },
  {
   "cell_type": "code",
   "execution_count": null,
   "metadata": {},
   "outputs": [],
   "source": []
  }
 ],
 "metadata": {
  "kernelspec": {
   "display_name": "Python 3.8.2 64-bit",
   "language": "python",
   "name": "python38264bit0076514f24354075b40e04130ba53c8b"
  },
  "language_info": {
   "codemirror_mode": {
    "name": "ipython",
    "version": 3
   },
   "file_extension": ".py",
   "mimetype": "text/x-python",
   "name": "python",
   "nbconvert_exporter": "python",
   "pygments_lexer": "ipython3",
   "version": "3.8.5"
  }
 },
 "nbformat": 4,
 "nbformat_minor": 4
}
