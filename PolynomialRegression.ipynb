{
 "cells": [
  {
   "cell_type": "code",
   "execution_count": 3,
   "metadata": {},
   "outputs": [],
   "source": [
    "import numpy as np"
   ]
  },
  {
   "cell_type": "code",
   "execution_count": 4,
   "metadata": {},
   "outputs": [],
   "source": [
    "from sklearn import linear_model"
   ]
  },
  {
   "cell_type": "code",
   "execution_count": 5,
   "metadata": {},
   "outputs": [],
   "source": [
    "from pandas import DataFrame"
   ]
  },
  {
   "cell_type": "code",
   "execution_count": 6,
   "metadata": {},
   "outputs": [],
   "source": [
    "import matplotlib.pyplot as plt"
   ]
  },
  {
   "cell_type": "code",
   "execution_count": 7,
   "metadata": {},
   "outputs": [],
   "source": [
    "from sklearn.preprocessing import PolynomialFeatures"
   ]
  },
  {
   "cell_type": "code",
   "execution_count": 8,
   "metadata": {},
   "outputs": [],
   "source": [
    "data = {'Olympic Year' : [1912, 1924, 1932, 1952, 1960, 1968, 1976, 1984, 1992, 2000, 2008],\n",
    "        'Result, Women 100m Freestyle Swim' : [82.2,  72.4,  66.8,  66.8,  61.2,  60.0,  55.65,  55.92,  54.64,  53.8,  53.1]}"
   ]
  },
  {
   "cell_type": "code",
   "execution_count": 9,
   "metadata": {},
   "outputs": [],
   "source": [
    "df = DataFrame(data)"
   ]
  },
  {
   "cell_type": "code",
   "execution_count": 10,
   "metadata": {},
   "outputs": [
    {
     "data": {
      "text/html": [
       "<div>\n",
       "<style scoped>\n",
       "    .dataframe tbody tr th:only-of-type {\n",
       "        vertical-align: middle;\n",
       "    }\n",
       "\n",
       "    .dataframe tbody tr th {\n",
       "        vertical-align: top;\n",
       "    }\n",
       "\n",
       "    .dataframe thead th {\n",
       "        text-align: right;\n",
       "    }\n",
       "</style>\n",
       "<table border=\"1\" class=\"dataframe\">\n",
       "  <thead>\n",
       "    <tr style=\"text-align: right;\">\n",
       "      <th></th>\n",
       "      <th>Olympic Year</th>\n",
       "      <th>Result, Women 100m Freestyle Swim</th>\n",
       "    </tr>\n",
       "  </thead>\n",
       "  <tbody>\n",
       "    <tr>\n",
       "      <th>0</th>\n",
       "      <td>1912</td>\n",
       "      <td>82.20</td>\n",
       "    </tr>\n",
       "    <tr>\n",
       "      <th>1</th>\n",
       "      <td>1924</td>\n",
       "      <td>72.40</td>\n",
       "    </tr>\n",
       "    <tr>\n",
       "      <th>2</th>\n",
       "      <td>1932</td>\n",
       "      <td>66.80</td>\n",
       "    </tr>\n",
       "    <tr>\n",
       "      <th>3</th>\n",
       "      <td>1952</td>\n",
       "      <td>66.80</td>\n",
       "    </tr>\n",
       "    <tr>\n",
       "      <th>4</th>\n",
       "      <td>1960</td>\n",
       "      <td>61.20</td>\n",
       "    </tr>\n",
       "    <tr>\n",
       "      <th>5</th>\n",
       "      <td>1968</td>\n",
       "      <td>60.00</td>\n",
       "    </tr>\n",
       "    <tr>\n",
       "      <th>6</th>\n",
       "      <td>1976</td>\n",
       "      <td>55.65</td>\n",
       "    </tr>\n",
       "    <tr>\n",
       "      <th>7</th>\n",
       "      <td>1984</td>\n",
       "      <td>55.92</td>\n",
       "    </tr>\n",
       "    <tr>\n",
       "      <th>8</th>\n",
       "      <td>1992</td>\n",
       "      <td>54.64</td>\n",
       "    </tr>\n",
       "    <tr>\n",
       "      <th>9</th>\n",
       "      <td>2000</td>\n",
       "      <td>53.80</td>\n",
       "    </tr>\n",
       "  </tbody>\n",
       "</table>\n",
       "</div>"
      ],
      "text/plain": [
       "   Olympic Year  Result, Women 100m Freestyle Swim\n",
       "0          1912                              82.20\n",
       "1          1924                              72.40\n",
       "2          1932                              66.80\n",
       "3          1952                              66.80\n",
       "4          1960                              61.20\n",
       "5          1968                              60.00\n",
       "6          1976                              55.65\n",
       "7          1984                              55.92\n",
       "8          1992                              54.64\n",
       "9          2000                              53.80"
      ]
     },
     "execution_count": 10,
     "metadata": {},
     "output_type": "execute_result"
    }
   ],
   "source": [
    "df.head(10)"
   ]
  },
  {
   "cell_type": "code",
   "execution_count": null,
   "metadata": {},
   "outputs": [],
   "source": [
    "#degree = int(input(\"How many degree: \"))\n",
    "polynomiaal_features = PolynomialFeatures(degree=2)\n",
    "input_dimension_polynomic = polynomiaal_features.fit_transform(df[['Olympic Year']])\n",
    "regression_tool = linear_model.LinearRegression()\n",
    "regression_tool.fit(input_dimension_polynomic, df['Result, Women 100m Freestyle Swim'])\n",
    "\n",
    "plt.title('Olympic 100M Winning Times', fontsize=14)\n",
    "plt.xlabel('Olympic Year', fontsize=14)\n",
    "plt.ylabel('Result, Women 100m Freestyle Swim', fontsize=14)\n",
    "plt.grid(True)\n",
    "plt.scatter(df['Olympic Year'],df['Result, Women 100m Freestyle Swim'])\n",
    "\n",
    "#regression_tool = linear_model.LinearRegression()\n",
    "#regression_tool.fit(df[['Olympic Year']],df['Result, Women 100m Freestyle Swim'])\n",
    "\n",
    "regression_curve = regression_tool.predict(input_dimension_polynomic)\n",
    "plt.plot(df['Olympic Year'], regression_curve, color='y')\n",
    "\n",
    "plt.show()\n",
    "\n",
    "\n",
    "\n",
    "\n",
    "\n",
    "\"\"\"visualisation.xlabel('month_n', fontsize=14)\n",
    "# Code to dummies compiler: \n",
    "# I would also like to use a function called xlabel for setting the label for the x-axis. \n",
    "# I would like to give two parameters to the function, the title and the fontsize.\n",
    "\n",
    "\n",
    "visualisation.ylabel('number_of_observations', fontsize=14)\n",
    "# Code to dummies compiler: \n",
    "# compile it your self\n",
    "\n",
    "\n",
    "visualisation.grid(True) \n",
    "# Code to dummies compiler: \n",
    "# I would also like to use a function called \"grid\" for setting the grid visible with parameter: \"True\"\n",
    "\n",
    "visualisation.scatter(data_frame['month_n'], data_frame['number_of_observations'])\n",
    "# Code to dummies compiler: \n",
    "# I would also like to use a function called \"scatter\" to draw the datapoints to the plot.\n",
    "# I would like to give two parameters to the function, the data for the x-axis and the data for the y-axis\n",
    "\n",
    "\n",
    "visualisation.show()\n",
    "# Code to dummies compiler: \n",
    "# I would also like to use a function called \"show\" to draw the plot to the screen.\"\"\""
   ]
  },
  {
   "cell_type": "code",
   "execution_count": null,
   "metadata": {},
   "outputs": [],
   "source": [
    "regression_tool.predict(polynomiaal_features.fit_transform(np.array([2016]).reshape(-1, 1)))\n",
    "#print(f\"{2016} and {degree}\")\n"
   ]
  },
  {
   "cell_type": "code",
   "execution_count": 12,
   "metadata": {},
   "outputs": [],
   "source": [
    "polynomiaal_features = PolynomialFeatures(degree=2)"
   ]
  },
  {
   "cell_type": "code",
   "execution_count": null,
   "metadata": {},
   "outputs": [],
   "source": [
    "input_dimension_polynomic = polynomiaal_features.fit_transform(data_frame[['Olympic Year']])\n",
    "regression_tool = linear_model.LinearRegression()\n",
    "\n"
   ]
  }
 ],
 "metadata": {
  "kernelspec": {
   "display_name": "Python 3.8.2 64-bit",
   "language": "python",
   "name": "python38264bit0076514f24354075b40e04130ba53c8b"
  },
  "language_info": {
   "codemirror_mode": {
    "name": "ipython",
    "version": 3
   },
   "file_extension": ".py",
   "mimetype": "text/x-python",
   "name": "python",
   "nbconvert_exporter": "python",
   "pygments_lexer": "ipython3",
   "version": "3.8.10"
  }
 },
 "nbformat": 4,
 "nbformat_minor": 4
}
