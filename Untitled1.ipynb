{
 "cells": [
  {
   "cell_type": "code",
   "execution_count": 56,
   "metadata": {},
   "outputs": [
    {
     "name": "stdin",
     "output_type": "stream",
     "text": [
      "Heads or tales? tales\n",
      "Heads or tales? heads\n",
      "Heads or tales? tales\n",
      "Heads or tales? heads\n",
      "Heads or tales? heads\n"
     ]
    },
    {
     "name": "stdout",
     "output_type": "stream",
     "text": [
      "['tales', 'heads', 'tales', 'heads', 'heads']\n",
      "tales\n",
      "heads\n",
      "heads\n",
      "['tales', 'tales']\n"
     ]
    }
   ],
   "source": [
    "def asking_user():\n",
    "    answer_list=[]\n",
    "    list_of_tales=[]\n",
    "    for x in range(5):\n",
    "        answer=input(\"Heads or tales?\")\n",
    "        answer_list.append(answer)\n",
    "        if answer ==\"tales\":\n",
    "            list_of_tales.append(answer)\n",
    "    printing(answer_list)\n",
    "    tales_printer(list_of_tales)\n",
    "        \n",
    "    \n",
    "def printing(answer_list):\n",
    "    print(answer_list)\n",
    "    specific_answer(answer_list)\n",
    "    \n",
    "def specific_answer(answer_list):\n",
    "    print(answer_list[0])\n",
    "    print(answer_list[1])\n",
    "    print(answer_list[3])\n",
    "    \n",
    "def tales_printer(list_of_tales):\n",
    "    print(list_of_tales)\n",
    "    \n",
    "    \n",
    "    \n",
    "    \n",
    "asking_user()\n",
    "\n",
    "    \n",
    "\n",
    "\n",
    "\n"
   ]
  },
  {
   "cell_type": "code",
   "execution_count": 60,
   "metadata": {},
   "outputs": [
    {
     "name": "stdin",
     "output_type": "stream",
     "text": [
      "What is your name? Ville\n"
     ]
    },
    {
     "name": "stdout",
     "output_type": "stream",
     "text": [
      "['Ville']\n"
     ]
    }
   ],
   "source": [
    "name_list=[]\n",
    "\n",
    "def ask_user():\n",
    "    user_name=input(\"What is your name?\")\n",
    "    name_list.append(user_name)\n",
    "    print(name_list)\n",
    "\n",
    "ask_user()\n",
    "    \n"
   ]
  },
  {
   "cell_type": "code",
   "execution_count": 62,
   "metadata": {},
   "outputs": [
    {
     "name": "stdin",
     "output_type": "stream",
     "text": [
      "How old are you? 18\n"
     ]
    },
    {
     "name": "stdout",
     "output_type": "stream",
     "text": [
      "[18]\n"
     ]
    }
   ],
   "source": [
    "user_age=[]\n",
    "\n",
    "def ask_age():\n",
    "    the_age=int(input(\"How old are you?\"))\n",
    "    user_age.append(the_age)\n",
    "    print(user_age)\n",
    "    \n",
    "ask_age()"
   ]
  },
  {
   "cell_type": "code",
   "execution_count": 67,
   "metadata": {},
   "outputs": [
    {
     "name": "stdin",
     "output_type": "stream",
     "text": [
      "Give me a number? 5\n"
     ]
    },
    {
     "name": "stdout",
     "output_type": "stream",
     "text": [
      "10 x 5 = 50\n"
     ]
    }
   ],
   "source": [
    "number1=10\n",
    "multiplier=0\n",
    "result=0\n",
    "\n",
    "def ask_number():\n",
    "    user_number=int(input(\"Give me a number?\"))\n",
    "    multiplier=user_number\n",
    "    result=number1*user_number\n",
    "    print(number1, \"x\", multiplier,\"=\", result)\n",
    "    \n",
    "ask_number()"
   ]
  },
  {
   "cell_type": "code",
   "execution_count": 70,
   "metadata": {},
   "outputs": [
    {
     "name": "stdout",
     "output_type": "stream",
     "text": [
      "1\n",
      "2\n",
      "3\n",
      "2\n",
      "4\n",
      "6\n",
      "3\n",
      "6\n",
      "9\n"
     ]
    }
   ],
   "source": [
    "for number in range(1,4):\n",
    "    for number2 in range(1,4):\n",
    "        print(number * number2)"
   ]
  },
  {
   "cell_type": "code",
   "execution_count": 77,
   "metadata": {},
   "outputs": [
    {
     "name": "stdout",
     "output_type": "stream",
     "text": [
      "Janet\n",
      "Michelle\n"
     ]
    }
   ],
   "source": [
    "programming_class=[\"Mike\",\"Janet\",\"Rob\",\"Michelle\",\"Elias\",\"Cimmo\"]\n",
    "AI_class=[\"Elina\",\"Jarred\",\"Janet\",\"Michelle\",\"Mathilda\",\"Mikko\"]\n",
    "\n",
    "for students in programming_class:\n",
    "    for students1 in AI_class:\n",
    "        if students == students1:\n",
    "            print(students)"
   ]
  },
  {
   "cell_type": "code",
   "execution_count": 82,
   "metadata": {},
   "outputs": [
    {
     "name": "stdout",
     "output_type": "stream",
     "text": [
      "000000\n",
      "00000\n",
      "0000\n",
      "000\n",
      "00\n",
      "0\n",
      "\n"
     ]
    }
   ],
   "source": [
    "for i in reversed(range(7)):\n",
    "    for i2 in range(i):\n",
    "        print (\"0\", end=\"\")\n",
    "    print(\"\")"
   ]
  },
  {
   "cell_type": "code",
   "execution_count": 122,
   "metadata": {},
   "outputs": [
    {
     "name": "stdout",
     "output_type": "stream",
     "text": [
      "\n",
      "0\n",
      "00\n",
      "000\n",
      "0000\n",
      "00000\n",
      "000000\n",
      "                        \n",
      "\n",
      "6                     6 \n",
      "\n",
      "6 5                 5 6 \n",
      "\n",
      "6 5 4             4 5 6 \n",
      "\n",
      "6 5 4 3         3 4 5 6 \n",
      "\n",
      "6 5 4 3 2     2 3 4 5 6 \n",
      "\n",
      "6 5 4 3 2 1 1 2 3 4 5 6 \n",
      "\n"
     ]
    }
   ],
   "source": [
    "\"\"\"def using_for():\n",
    "    for i in reversed(range(7)):\n",
    "        for i2 in reversed(range(i)):\n",
    "            print (\"0\", end=\"\")\n",
    "        print(\"\")\n",
    "    using_for_again()\"\"\"\n",
    "\n",
    "def using_for_again():\n",
    "    for i in (range(7)):\n",
    "        for i2 in range(i):\n",
    "            print(\"0\", end=\"\")\n",
    "        print(\"\")\n",
    "    using_for_another_time()\n",
    "\n",
    "def using_for_another_time():\n",
    "    rows = 7\n",
    "    for i in reversed(range(0, rows)):\n",
    "        for j in range(rows - 1, i, -1):\n",
    "            print(j, '', end='')\n",
    "        for l in range(i):\n",
    "            print('    ', end='')\n",
    "        for k in range(i + 1, rows):\n",
    "            print(k, '', end='')\n",
    "        print('\\n')\n",
    "\n",
    "\"\"\"using_for()\"\"\"\n",
    "\n",
    "using_for_again()\n",
    "        \n",
    "\n",
    "        \n",
    "    "
   ]
  },
  {
   "cell_type": "code",
   "execution_count": null,
   "metadata": {},
   "outputs": [],
   "source": []
  },
  {
   "cell_type": "code",
   "execution_count": null,
   "metadata": {},
   "outputs": [],
   "source": []
  }
 ],
 "metadata": {
  "kernelspec": {
   "display_name": "Python 3.8.2 64-bit",
   "language": "python",
   "name": "python38264bit0076514f24354075b40e04130ba53c8b"
  },
  "language_info": {
   "codemirror_mode": {
    "name": "ipython",
    "version": 3
   },
   "file_extension": ".py",
   "mimetype": "text/x-python",
   "name": "python",
   "nbconvert_exporter": "python",
   "pygments_lexer": "ipython3",
   "version": "3.8.2"
  }
 },
 "nbformat": 4,
 "nbformat_minor": 4
}
