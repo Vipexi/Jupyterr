{
 "cells": [
  {
   "cell_type": "code",
   "execution_count": 10,
   "metadata": {},
   "outputs": [
    {
     "name": "stdin",
     "output_type": "stream",
     "text": [
      "How old are you? 50\n"
     ]
    },
    {
     "name": "stdout",
     "output_type": "stream",
     "text": [
      "You are welcome!\n"
     ]
    }
   ],
   "source": [
    "age=int(input(\"How old are you?\"))\n",
    "while True:\n",
    "    if age < 18:\n",
    "        parent=input(\"Is your parent with you?\")\n",
    "    if parent ==\"yes\":\n",
    "        print(\"You are welcome!\")\n",
    "    else :\n",
    "        print(\"Unfortunately you are too young to use this software\")\n",
    "    elif age >= 18 and age <=65 :\n",
    "        print(\"You are welcome!\")\n",
    "    elif age > 65:\n",
    "        print(\"Unfortunately this software is not recommended for elderly people.\")\n",
    "    "
   ]
  },
  {
   "cell_type": "code",
   "execution_count": 13,
   "metadata": {},
   "outputs": [
    {
     "name": "stdin",
     "output_type": "stream",
     "text": [
      "What is your favourite sport? bandy\n"
     ]
    },
    {
     "name": "stdout",
     "output_type": "stream",
     "text": [
      "Yes that is a great sport!\n"
     ]
    }
   ],
   "source": [
    "ball_games=[\"soccer\",\"volleyball\",\"basketball\",\"Tennis\"]\n",
    "solo_sport=[\"running\",\"swimming\",\"cycling\"]\n",
    "\n",
    "sport=input(\"What is your favourite sport?\")\n",
    "if sport in ball_games:\n",
    "    print(\"Great! I like all ball games.\")\n",
    "elif sport in solo_sport:\n",
    "    print(\"Great! I like all solo sports.\")\n",
    "else:\n",
    "    print(\"Yes that is a great sport!\")"
   ]
  },
  {
   "cell_type": "code",
   "execution_count": 1,
   "metadata": {},
   "outputs": [
    {
     "ename": "IndentationError",
     "evalue": "expected an indented block (<ipython-input-1-deaef82bd189>, line 32)",
     "output_type": "error",
     "traceback": [
      "\u001b[0;36m  File \u001b[0;32m\"<ipython-input-1-deaef82bd189>\"\u001b[0;36m, line \u001b[0;32m32\u001b[0m\n\u001b[0;31m    def classical(user_name):\u001b[0m\n\u001b[0m    ^\u001b[0m\n\u001b[0;31mIndentationError\u001b[0m\u001b[0;31m:\u001b[0m expected an indented block\n"
     ]
    }
   ],
   "source": [
    "def hello():\n",
    "    user_name=input(\"What is your name?\")\n",
    "    print(\"Hello!\" ,user_name)\n",
    "    ask_topic(user_name)\n",
    "    \n",
    "def ask_topic():\n",
    "    opinion=input(\"Do you want to hear about pop, rock, classical or neo classical?\",user_name)\n",
    "    if opinion ==\"pop\":\n",
    "        pop(user_name)\n",
    "    #if opinion ==\"rock\":\n",
    "        #rock(user_name)\n",
    "    #if opinion ==\"classical\":\n",
    "        #classical(user_name)\n",
    "    if opinion ==\"neo classical\":\n",
    "        neo_classical(user_name)\n",
    "        \n",
    "def pop():\n",
    "    print(user_name, \"Here is some information about pop.\")\n",
    "    choise=input(\"Do you want to hear about neo classical instead?\")\n",
    "    if choise == \"no\":\n",
    "        choise2=input(\"Do you want to hear about something else or quit?\")\n",
    "        if choise2 == \"something else\":\n",
    "            ask_topic(user_name)\n",
    "        if choise2 == \"quit\":\n",
    "            print(\"goodbye!\")\n",
    "    if choise == \"yes\":\n",
    "        neo_classical(user_name)\n",
    "        \n",
    "\n",
    "def rock(user_name):\n",
    "\n",
    "def classical(user_name):\n",
    "    \n",
    "def neo_classical(user_name):\n",
    "    print(user_name, \"Here is some info about neo classical.\")\n",
    "    answer=input(\"Do you want to hear about classical music instead?\")\n",
    "    if answer ==\"no\":\n",
    "        ask_topic(user_name)\n",
    "\n",
    "hello()"
   ]
  },
  {
   "cell_type": "code",
   "execution_count": 5,
   "metadata": {},
   "outputs": [
    {
     "name": "stdin",
     "output_type": "stream",
     "text": [
      "Welcome, what is your name? Ville\n"
     ]
    },
    {
     "name": "stdout",
     "output_type": "stream",
     "text": [
      "Nice to meet you  Ville\n"
     ]
    },
    {
     "name": "stdin",
     "output_type": "stream",
     "text": [
      "Ville, would you like to talk about pop, rock, classical or neo classical? neo classical\n"
     ]
    },
    {
     "name": "stdout",
     "output_type": "stream",
     "text": [
      "Ville, here's some information about neo classical\n"
     ]
    },
    {
     "name": "stdin",
     "output_type": "stream",
     "text": [
      "Do you want to hear about classical music? yes\n"
     ]
    },
    {
     "name": "stdout",
     "output_type": "stream",
     "text": [
      "Ville, here's some information about classical\n"
     ]
    },
    {
     "name": "stdin",
     "output_type": "stream",
     "text": [
      "Do you want to change topic or quit? quit\n"
     ]
    },
    {
     "name": "stdout",
     "output_type": "stream",
     "text": [
      "Goobye!\n"
     ]
    }
   ],
   "source": [
    "def welcome() :\n",
    "    user_name = input(\"Welcome, what is your name?\")\n",
    "    print(\"Nice to meet you \",user_name)\n",
    "    ask_topic(user_name)\n",
    "    \n",
    "def ask_topic(user_name):\n",
    "    topic = input(\"%s, would you like to talk about pop, rock, classical or neo classical?\" %user_name)\n",
    "    if topic == \"pop\":\n",
    "        pop(user_name)\n",
    "    if topic == \"rock\":\n",
    "        rock(user_name)\n",
    "    if topic == \"classical\":\n",
    "        classical(user_name)\n",
    "    if topic == \"neo classical\":\n",
    "        neo_classical(user_name)\n",
    "    \n",
    "\n",
    "\n",
    "def pop(user_name):\n",
    "    print(\"%s, here's some information about pop\" %user_name)\n",
    "    topic=input(\"Do you want to hear about neo classical?\")\n",
    "    if topic ==\"yes\":\n",
    "        neo_classical(user_name)\n",
    "    if topic ==\"no\":\n",
    "        ask=input(\"Do you want to change topic or quit?\")\n",
    "        if ask==\"change topic\":\n",
    "            ask_topic(user_name)\n",
    "        if ask ==\"quit\":\n",
    "            print(\"Goodbye!\")\n",
    "            \n",
    "        \n",
    "        \n",
    "def rock(user_name):\n",
    "    print(\"%s, here's some information about rock\" %user_name)\n",
    "    topic=input(\"do you want to hear about neo classical?\")\n",
    "    if topic ==\"yes\":\n",
    "        neo_classical(user_name)\n",
    "    if topic ==\"no\":\n",
    "        ask=input(\"Do you want to change topic or quit?\")\n",
    "        if ask ==\"change topic\":\n",
    "            ask_topic(user_name)\n",
    "        if ask ==\"quit\":\n",
    "            print(\"Goodbye!\")\n",
    "            \n",
    "def classical(user_name):\n",
    "    print(\"%s, here's some information about classical\" %user_name)\n",
    "    topic=input(\"Do you want to change topic or quit?\" %user_name)\n",
    "    if topic ==\"change topic\":\n",
    "        ask_topic(user_name)\n",
    "    if topic ==\"quit\":\n",
    "        print(\"Goobye!\")\n",
    "\n",
    "def neo_classical(user_name):\n",
    "    print(\"%s, here's some information about neo classical\" %user_name)\n",
    "    topic=input(\"Do you want to hear about classical music?\" &user_name)\n",
    "    if topic==\"yes\":\n",
    "        classical(user_name)\n",
    "    if topic==\"no\":\n",
    "        ask=input(\"Do you waht to change topic or quit?\" %user_name)\n",
    "        if ask ==\"change topic\" %user_name:\n",
    "            ask_topic(user_name)\n",
    "        if ask ==\"quit\" %user_name:\n",
    "            print(\"Goodbye!\")\n",
    "    \n",
    "    \n",
    "welcome()"
   ]
  },
  {
   "cell_type": "code",
   "execution_count": null,
   "metadata": {},
   "outputs": [],
   "source": []
  },
  {
   "cell_type": "code",
   "execution_count": null,
   "metadata": {},
   "outputs": [],
   "source": []
  },
  {
   "cell_type": "code",
   "execution_count": null,
   "metadata": {},
   "outputs": [],
   "source": []
  }
 ],
 "metadata": {
  "kernelspec": {
   "display_name": "Python 3.8.2 64-bit",
   "language": "python",
   "name": "python38264bit0076514f24354075b40e04130ba53c8b"
  },
  "language_info": {
   "codemirror_mode": {
    "name": "ipython",
    "version": 3
   },
   "file_extension": ".py",
   "mimetype": "text/x-python",
   "name": "python",
   "nbconvert_exporter": "python",
   "pygments_lexer": "ipython3",
   "version": "3.8.2"
  }
 },
 "nbformat": 4,
 "nbformat_minor": 4
}
