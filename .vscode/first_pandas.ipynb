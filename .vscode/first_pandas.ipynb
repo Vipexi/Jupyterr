{
 "metadata": {
  "language_info": {
   "codemirror_mode": {
    "name": "ipython",
    "version": 3
   },
   "file_extension": ".py",
   "mimetype": "text/x-python",
   "name": "python",
   "nbconvert_exporter": "python",
   "pygments_lexer": "ipython3",
   "version": "3.8.2-final"
  },
  "orig_nbformat": 2,
  "kernelspec": {
   "name": "python3",
   "display_name": "Python 3"
  }
 },
 "nbformat": 4,
 "nbformat_minor": 2,
 "cells": [
  {
   "cell_type": "code",
   "execution_count": 3,
   "metadata": {},
   "outputs": [
    {
     "output_type": "execute_result",
     "data": {
      "text/plain": [
       "    bmi waist    sex weight\n",
       "0  29.0  83.0  woman   73kg\n",
       "1  28.6  92.0    man   85kg\n",
       "2  27.5  88.0  woman   69kg"
      ],
      "text/html": "<div>\n<style scoped>\n    .dataframe tbody tr th:only-of-type {\n        vertical-align: middle;\n    }\n\n    .dataframe tbody tr th {\n        vertical-align: top;\n    }\n\n    .dataframe thead th {\n        text-align: right;\n    }\n</style>\n<table border=\"1\" class=\"dataframe\">\n  <thead>\n    <tr style=\"text-align: right;\">\n      <th></th>\n      <th>bmi</th>\n      <th>waist</th>\n      <th>sex</th>\n      <th>weight</th>\n    </tr>\n  </thead>\n  <tbody>\n    <tr>\n      <th>0</th>\n      <td>29.0</td>\n      <td>83.0</td>\n      <td>woman</td>\n      <td>73kg</td>\n    </tr>\n    <tr>\n      <th>1</th>\n      <td>28.6</td>\n      <td>92.0</td>\n      <td>man</td>\n      <td>85kg</td>\n    </tr>\n    <tr>\n      <th>2</th>\n      <td>27.5</td>\n      <td>88.0</td>\n      <td>woman</td>\n      <td>69kg</td>\n    </tr>\n  </tbody>\n</table>\n</div>"
     },
     "metadata": {},
     "execution_count": 3
    }
   ],
   "source": [
    "import pandas as pd\n",
    "import numpy as np\n",
    "\n",
    "my_numpy_array = np.array([[0,1,2,3,4,5,6,7,8,9],[10,11,12,13,14,15,16,17,18,19,]).T\n",
    "my_dataframe=pd.DataFrame(my_numpy_array, columns=[\"first_column\",\"second_column\"])\n",
    "my_dataframe.head()\n"
   ]
  },
  {
   "source": [],
   "cell_type": "code",
   "metadata": {},
   "execution_count": null,
   "outputs": [
    {
     "output_type": "error",
     "ename": "Error",
     "evalue": "Unable to start session for kernel Python 3. Select another kernel to launch with.",
     "traceback": [
      "Error: Unable to start session for kernel Python 3. Select another kernel to launch with.",
      "at y.connect (/home/vipexi/.vscode-server/extensions/ms-toolsai.jupyter-2020.11.358541065/out/client/extension.js:32:510334)"
     ]
    }
   ]
  },
  {
   "cell_type": "code",
   "execution_count": null,
   "metadata": {},
   "outputs": [],
   "source": []
  },
  {
   "cell_type": "code",
   "execution_count": null,
   "metadata": {},
   "outputs": [],
   "source": []
  }
 ]
}